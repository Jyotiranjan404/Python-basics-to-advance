{
 "cells": [
  {
   "cell_type": "code",
   "execution_count": 1,
   "metadata": {},
   "outputs": [
    {
     "data": {
      "text/plain": [
       "dict"
      ]
     },
     "execution_count": 1,
     "metadata": {},
     "output_type": "execute_result"
    }
   ],
   "source": [
    "a={}\n",
    "type(a)"
   ]
  },
  {
   "cell_type": "code",
   "execution_count": 2,
   "metadata": {},
   "outputs": [
    {
     "name": "stdout",
     "output_type": "stream",
     "text": [
      "{1: 'jyoti', 2: 'ranjan', 3: 'padhi'}\n"
     ]
    }
   ],
   "source": [
    "b={1:\"jyoti\",2:\"ranjan\",3:\"padhi\"}\n",
    "print(b)"
   ]
  },
  {
   "cell_type": "markdown",
   "metadata": {},
   "source": [
    "# another way to creat a dictionary:"
   ]
  },
  {
   "cell_type": "code",
   "execution_count": 2,
   "metadata": {},
   "outputs": [
    {
     "name": "stdout",
     "output_type": "stream",
     "text": [
      "{'Name': 'jyoti', 'age': 23, 'Location': 'Bhubaneswar'}\n"
     ]
    }
   ],
   "source": [
    "d=dict(Name=\"jyoti\",age=23,Location=\"Bhubaneswar\")\n",
    "print(d)"
   ]
  },
  {
   "cell_type": "code",
   "execution_count": 15,
   "metadata": {},
   "outputs": [
    {
     "name": "stdout",
     "output_type": "stream",
     "text": [
      "{'Name': 'jyoti', 'age': 23, 'Location': 'Bhubaneswar'}\n"
     ]
    }
   ],
   "source": [
    "d=dict(Name=\"jyoti\",age=23,Location=\"Bhubaneswar\")\n",
    "print(d)"
   ]
  },
  {
   "cell_type": "code",
   "execution_count": 12,
   "metadata": {},
   "outputs": [
    {
     "name": "stdout",
     "output_type": "stream",
     "text": [
      "{'name': 'jyotiranjan padhi', 'age': 23, 'location': 'bhubaneswar'}\n"
     ]
    }
   ],
   "source": [
    "d1=dict(name=\"jyotiranjan padhi\",age=23,location=\"bhubaneswar\")\n",
    "print(d1)"
   ]
  },
  {
   "cell_type": "markdown",
   "metadata": {},
   "source": [
    "# dict() methods---->"
   ]
  },
  {
   "cell_type": "code",
   "execution_count": null,
   "metadata": {},
   "outputs": [],
   "source": [
    "'''\n",
    "clear() - Removes all the elements from the dictionary\n",
    "copy() -Returns a copy of the dictionary\n",
    "fromkeys() - Returns a dictionary with the specified keys and value\n",
    "get()- Returns the value of the specified key\n",
    "items()- Returns a list containing a tuple for each key value pair\n",
    "keys() - Returns a list containing the dictionary's keys\n",
    "pop()- Removes the element with the specified key\n",
    "popitem()- Removes the last inserted key-value pair\n",
    "setdefault()- Returns the value of the specified key. If the key does not exist: insert the key, with the specified value\n",
    "update()- Updates the dictionary with the specified key-value pairs\n",
    "values() - Returns a list of all the values in the dictionary\n",
    "'''"
   ]
  },
  {
   "cell_type": "code",
   "execution_count": 20,
   "metadata": {},
   "outputs": [
    {
     "data": {
      "text/plain": [
       "'Bhubaneswar'"
      ]
     },
     "execution_count": 20,
     "metadata": {},
     "output_type": "execute_result"
    }
   ],
   "source": [
    "#get() give you value of location\n",
    "d=dict(Name=\"jyoti\",age=23,Location=\"Bhubaneswar\")\n",
    "d.get(\"Location\")"
   ]
  },
  {
   "cell_type": "code",
   "execution_count": 21,
   "metadata": {},
   "outputs": [
    {
     "data": {
      "text/plain": [
       "'jyoti'"
      ]
     },
     "execution_count": 21,
     "metadata": {},
     "output_type": "execute_result"
    }
   ],
   "source": [
    "# This is how also we can call\n",
    "d[\"Name\"]"
   ]
  },
  {
   "cell_type": "code",
   "execution_count": 22,
   "metadata": {},
   "outputs": [
    {
     "data": {
      "text/plain": [
       "23"
      ]
     },
     "execution_count": 22,
     "metadata": {},
     "output_type": "execute_result"
    }
   ],
   "source": [
    "d[\"age\"]"
   ]
  },
  {
   "cell_type": "code",
   "execution_count": 23,
   "metadata": {},
   "outputs": [
    {
     "data": {
      "text/plain": [
       "'Bhubaneswar'"
      ]
     },
     "execution_count": 23,
     "metadata": {},
     "output_type": "execute_result"
    }
   ],
   "source": [
    "d[\"Location\"]"
   ]
  },
  {
   "cell_type": "code",
   "execution_count": 24,
   "metadata": {},
   "outputs": [
    {
     "data": {
      "text/plain": [
       "23"
      ]
     },
     "execution_count": 24,
     "metadata": {},
     "output_type": "execute_result"
    }
   ],
   "source": [
    "d.get(\"age\")"
   ]
  },
  {
   "cell_type": "code",
   "execution_count": 25,
   "metadata": {},
   "outputs": [
    {
     "data": {
      "text/plain": [
       "'jyoti'"
      ]
     },
     "execution_count": 25,
     "metadata": {},
     "output_type": "execute_result"
    }
   ],
   "source": [
    "d.get(\"Name\")"
   ]
  },
  {
   "cell_type": "code",
   "execution_count": 27,
   "metadata": {},
   "outputs": [
    {
     "name": "stdout",
     "output_type": "stream",
     "text": [
      "{'Name': 'Ranjan', 'age': 23, 'Location': 'Bhubaneswar'}\n"
     ]
    }
   ],
   "source": [
    "#Dict is mutable so, we can change values after created\n",
    "d=dict(Name=\"jyoti\",age=23,Location=\"Bhubaneswar\")\n",
    "d[\"Name\"]= \"Ranjan\"\n",
    "print(d)"
   ]
  },
  {
   "cell_type": "code",
   "execution_count": 3,
   "metadata": {},
   "outputs": [
    {
     "name": "stdout",
     "output_type": "stream",
     "text": [
      "{'Name': 'jyoti', 'age': 23, 'Location': 'Bhubaneswar', 'email': 'xyz@gmail.com'}\n"
     ]
    }
   ],
   "source": [
    "d[\"email\"]=\"xyz@gmail.com\"\n",
    "print(d)"
   ]
  },
  {
   "cell_type": "code",
   "execution_count": 5,
   "metadata": {},
   "outputs": [
    {
     "name": "stdout",
     "output_type": "stream",
     "text": [
      "{'Name': 'jyoti', 'age': 25, 'Location': 'Bhubaneswar', 'email': 'xyz@gmail.com', 'name': 'xyz', 'location': 'US'}\n"
     ]
    }
   ],
   "source": [
    "#this is how we update dict  using update()\n",
    "d1=dict(name=\"xyz\",age=25,location=\"US\")\n",
    "d.update(d1)\n",
    "print(d)"
   ]
  },
  {
   "cell_type": "code",
   "execution_count": 56,
   "metadata": {},
   "outputs": [
    {
     "name": "stdout",
     "output_type": "stream",
     "text": [
      "{'Name': 'xyz', 'age': 25, 'Location': 'US'}\n"
     ]
    }
   ],
   "source": [
    "d=dict(Name=\"jyoti\",age=23,Location=\"Bhubaneswar\")\n",
    "d1=dict(Name=\"xyz\",age=25,Location=\"US\")\n",
    "d.update(d1)\n",
    "print(d)"
   ]
  },
  {
   "cell_type": "code",
   "execution_count": 77,
   "metadata": {},
   "outputs": [
    {
     "name": "stdout",
     "output_type": "stream",
     "text": [
      "{'brand': 'sumsung', 'model': 'S+', 'yearofpurchase': 2020}\n"
     ]
    }
   ],
   "source": [
    "my_phone=dict(brand=\"oneplus\",model=8,yearofpurchase=2020)\n",
    "phone=dict(brand=\"sumsung\",model=\"S+\",yearofpurchase=2020)\n",
    "my_phone.update(phone)\n",
    "print(my_phone)"
   ]
  },
  {
   "cell_type": "code",
   "execution_count": 82,
   "metadata": {},
   "outputs": [
    {
     "name": "stdout",
     "output_type": "stream",
     "text": [
      "{1: 'sumsung', 'model': 'S+', 'yearofpurchase': 2020}\n"
     ]
    }
   ],
   "source": [
    "my_phone={1:\"oneplus\",\"model\":8,\"yearofpurchase\":2020}\n",
    "phone={1:\"sumsung\",\"model\":\"S+\",\"yearofpurchase\":2020}\n",
    "my_phone.update(phone)\n",
    "print(my_phone)"
   ]
  },
  {
   "cell_type": "code",
   "execution_count": 84,
   "metadata": {},
   "outputs": [
    {
     "name": "stdout",
     "output_type": "stream",
     "text": [
      "{1: 'oneplus', 'model': 8, 'yearofpurchase': 2020}\n"
     ]
    }
   ],
   "source": [
    "my_phone={1:\"oneplus\",\"model\":8,\"yearofpurchase\":2020}\n",
    "print(my_phone)\n"
   ]
  },
  {
   "cell_type": "code",
   "execution_count": 99,
   "metadata": {},
   "outputs": [
    {
     "name": "stdout",
     "output_type": "stream",
     "text": [
      "{'brand': 'oneplus', 'model': 8, 'yearofpurchase': 2020}\n"
     ]
    }
   ],
   "source": [
    "my_phone=dict(brand=\"oneplus\",model=8,yearofpurchase=2020)\n",
    "print(my_phone)\n"
   ]
  },
  {
   "cell_type": "code",
   "execution_count": 100,
   "metadata": {},
   "outputs": [
    {
     "name": "stdout",
     "output_type": "stream",
     "text": [
      "{'name': 'jyoti', 'middle': 'ranjan', 'last': 'padhi'}\n"
     ]
    }
   ],
   "source": [
    "bucket=dict(name=\"jyoti\",middle=\"ranjan\",last=\"padhi\")\n",
    "print(bucket) \n"
   ]
  },
  {
   "cell_type": "code",
   "execution_count": 101,
   "metadata": {},
   "outputs": [
    {
     "name": "stdout",
     "output_type": "stream",
     "text": [
      "{1: 'jyoti', 2: 'ranjan', 3: 'padhi'}\n"
     ]
    }
   ],
   "source": [
    "bucket={1:\"jyoti\",2:\"ranjan\",3:\"padhi\"}\n",
    "print(bucket)"
   ]
  },
  {
   "cell_type": "code",
   "execution_count": 10,
   "metadata": {},
   "outputs": [
    {
     "name": "stdout",
     "output_type": "stream",
     "text": [
      "{'name': 'jyoti', 'ranjan': 'ranjan', 'padhi': 'padhi'}\n"
     ]
    }
   ],
   "source": [
    "bucket=dict(name=\"jyoti\",ranjan=\"ranjan\",padhi=\"padhi\")\n",
    "print(bucket)"
   ]
  },
  {
   "cell_type": "code",
   "execution_count": 105,
   "metadata": {},
   "outputs": [
    {
     "name": "stdout",
     "output_type": "stream",
     "text": [
      "{1: 'money'}\n"
     ]
    }
   ],
   "source": [
    "pocket={1:\"money\"}\n",
    "print(pocket)"
   ]
  },
  {
   "cell_type": "code",
   "execution_count": 7,
   "metadata": {},
   "outputs": [
    {
     "name": "stdout",
     "output_type": "stream",
     "text": [
      "{'name': 'money'}\n"
     ]
    }
   ],
   "source": [
    "pocket1=dict(name=\"money\")\n",
    "print(pocket1)"
   ]
  },
  {
   "cell_type": "code",
   "execution_count": 110,
   "metadata": {},
   "outputs": [
    {
     "name": "stdout",
     "output_type": "stream",
     "text": [
      "{1: 'jyoti', 2: 'ranjan', 3: 'padhi'}\n"
     ]
    }
   ],
   "source": [
    "bucket=dict({1:\"jyoti\",2:\"ranjan\",3:\"padhi\"})\n",
    "print(bucket)"
   ]
  },
  {
   "cell_type": "code",
   "execution_count": 126,
   "metadata": {},
   "outputs": [
    {
     "name": "stdout",
     "output_type": "stream",
     "text": [
      "{1: 'John', 2: 200000}\n"
     ]
    }
   ],
   "source": [
    "my_dict = {1: 'John', 2: 200000}\n",
    "print(my_dict)"
   ]
  },
  {
   "cell_type": "code",
   "execution_count": 11,
   "metadata": {},
   "outputs": [
    {
     "name": "stdout",
     "output_type": "stream",
     "text": [
      "{'name': 'xyz', 'ranjan': 'padhi', 'padhi': 'bhubaneswar'}\n"
     ]
    }
   ],
   "source": [
    "bucket=dict(name=\"jyoti\",ranjan=\"ranjan\",padhi=\"padhi\")\n",
    "u=dict(name=\"xyz\",ranjan=\"padhi\",padhi=\"bhubaneswar\")\n",
    "bucket.update(u)\n",
    "print(bucket)"
   ]
  },
  {
   "cell_type": "code",
   "execution_count": 16,
   "metadata": {},
   "outputs": [
    {
     "name": "stdout",
     "output_type": "stream",
     "text": [
      "{1: 'xyz', 3: 'bhubaneswar', 2: 'padhi'}\n"
     ]
    }
   ],
   "source": [
    "bucket=dict({(1,\"jyoti\") ,(2,\"ranjan\"),(3,\"padhi\")})\n",
    "u=dict({(1,\"xyz\"),(2,\"padhi\"),(3,\"bhubaneswar\")})\n",
    "bucket.update(u)\n",
    "print(bucket)"
   ]
  },
  {
   "cell_type": "code",
   "execution_count": 17,
   "metadata": {},
   "outputs": [
    {
     "name": "stdout",
     "output_type": "stream",
     "text": [
      "{1: 'jyoti', 2: 'ranjan', 3: 'padhi'}\n"
     ]
    }
   ],
   "source": [
    "pocket={1:\"jyoti\",2:\"ranjan\",3:\"padhi\"}\n",
    "print(pocket)"
   ]
  },
  {
   "cell_type": "code",
   "execution_count": 21,
   "metadata": {},
   "outputs": [
    {
     "name": "stdout",
     "output_type": "stream",
     "text": [
      "{1: 'jyoti', 3: 'padhi', 2: 'ranjan'}\n"
     ]
    }
   ],
   "source": [
    "pocket=dict({(1,\"jyoti\"),(2,\"ranjan\"),(3,\"padhi\")})\n",
    "print(pocket)"
   ]
  },
  {
   "cell_type": "code",
   "execution_count": 24,
   "metadata": {},
   "outputs": [
    {
     "name": "stdout",
     "output_type": "stream",
     "text": [
      "{'name': 'jyoti', 'age': 23, 'location': 'bhubaneswar'}\n"
     ]
    }
   ],
   "source": [
    "pocket=dict(name=\"jyoti\",age=23,location=\"bhubaneswar\")\n",
    "print(pocket)"
   ]
  },
  {
   "cell_type": "code",
   "execution_count": 25,
   "metadata": {},
   "outputs": [
    {
     "name": "stdout",
     "output_type": "stream",
     "text": [
      "{'name': 'dinesh', 'age': 23, 'location': 'bhubaneswar'}\n"
     ]
    }
   ],
   "source": [
    "pocket[\"name\"]=\"dinesh\"\n",
    "print(pocket)"
   ]
  },
  {
   "cell_type": "code",
   "execution_count": 29,
   "metadata": {},
   "outputs": [
    {
     "name": "stdout",
     "output_type": "stream",
     "text": [
      "{'name': 'jyoti', 'age': 23}\n"
     ]
    }
   ],
   "source": [
    "pocket=dict(name=\"jyoti\",age=23,location=\"bhubaneswar\")\n",
    "pocket.pop('location')\n",
    "print(pocket)"
   ]
  },
  {
   "cell_type": "code",
   "execution_count": 30,
   "metadata": {},
   "outputs": [
    {
     "data": {
      "text/plain": [
       "('age', 23)"
      ]
     },
     "execution_count": 30,
     "metadata": {},
     "output_type": "execute_result"
    }
   ],
   "source": [
    "pocket.popitem()"
   ]
  },
  {
   "cell_type": "code",
   "execution_count": 31,
   "metadata": {},
   "outputs": [
    {
     "name": "stdout",
     "output_type": "stream",
     "text": [
      "{'name': 'jyoti'}\n"
     ]
    }
   ],
   "source": [
    "print(pocket)"
   ]
  },
  {
   "cell_type": "code",
   "execution_count": 32,
   "metadata": {},
   "outputs": [
    {
     "data": {
      "text/plain": [
       "('name', 'jyoti')"
      ]
     },
     "execution_count": 32,
     "metadata": {},
     "output_type": "execute_result"
    }
   ],
   "source": [
    "pocket.popitem()"
   ]
  },
  {
   "cell_type": "code",
   "execution_count": 33,
   "metadata": {},
   "outputs": [
    {
     "name": "stdout",
     "output_type": "stream",
     "text": [
      "{}\n"
     ]
    }
   ],
   "source": [
    "print(pocket)"
   ]
  },
  {
   "cell_type": "code",
   "execution_count": 35,
   "metadata": {},
   "outputs": [
    {
     "data": {
      "text/plain": [
       "dict_keys(['name', 'age', 'loc'])"
      ]
     },
     "execution_count": 35,
     "metadata": {},
     "output_type": "execute_result"
    }
   ],
   "source": [
    "d=dict(name='dinesh',age=25,loc='india')\n",
    "d.keys()"
   ]
  },
  {
   "cell_type": "code",
   "execution_count": 36,
   "metadata": {},
   "outputs": [
    {
     "data": {
      "text/plain": [
       "dict_values(['dinesh', 25, 'india'])"
      ]
     },
     "execution_count": 36,
     "metadata": {},
     "output_type": "execute_result"
    }
   ],
   "source": [
    "d.values()"
   ]
  },
  {
   "cell_type": "code",
   "execution_count": 37,
   "metadata": {},
   "outputs": [
    {
     "data": {
      "text/plain": [
       "dict_items([('name', 'dinesh'), ('age', 25), ('loc', 'india')])"
      ]
     },
     "execution_count": 37,
     "metadata": {},
     "output_type": "execute_result"
    }
   ],
   "source": [
    "d.items()"
   ]
  },
  {
   "cell_type": "code",
   "execution_count": 39,
   "metadata": {},
   "outputs": [
    {
     "data": {
      "text/plain": [
       "'dinesh'"
      ]
     },
     "execution_count": 39,
     "metadata": {},
     "output_type": "execute_result"
    }
   ],
   "source": [
    "d.setdefault(\"name\")"
   ]
  },
  {
   "cell_type": "code",
   "execution_count": 53,
   "metadata": {},
   "outputs": [
    {
     "name": "stdout",
     "output_type": "stream",
     "text": [
      "{'name': 'dinesh', 'age': 25, 'loc': 'india', 'email': None, 'ph': '123'}\n"
     ]
    }
   ],
   "source": [
    "d.setdefault('ph','123')\n",
    "print(d)"
   ]
  },
  {
   "cell_type": "code",
   "execution_count": 54,
   "metadata": {},
   "outputs": [
    {
     "name": "stdout",
     "output_type": "stream",
     "text": [
      "{'name': 'dinesh', 'age': 25, 'loc': 'india', 'email': None, 'ph': '123'}\n"
     ]
    }
   ],
   "source": [
    "d.setdefault('ph','1234')\n",
    "print(d)"
   ]
  },
  {
   "cell_type": "code",
   "execution_count": 58,
   "metadata": {},
   "outputs": [
    {
     "name": "stdout",
     "output_type": "stream",
     "text": [
      "{'name': 'dinesh', 'age': 25, 'loc': 'india', 'email': 'xyz@gmail.com', 'ph': '123'}\n"
     ]
    }
   ],
   "source": [
    "d1=dict(email='xyz@gmail.com')\n",
    "d.update(d1)\n",
    "print(d)\n"
   ]
  },
  {
   "cell_type": "code",
   "execution_count": 62,
   "metadata": {},
   "outputs": [
    {
     "data": {
      "text/plain": [
       "{'n': 'dinesh', 'a': 'dinesh', 'm': 'dinesh', 'e': 'dinesh'}"
      ]
     },
     "execution_count": 62,
     "metadata": {},
     "output_type": "execute_result"
    }
   ],
   "source": [
    "d=dict(name= 'dinesh', age= 25, loc= 'india', email= 'xyz@gmail.com', ph= '123')\n",
    "d.fromkeys(\"name\", 'dinesh')"
   ]
  },
  {
   "cell_type": "code",
   "execution_count": 65,
   "metadata": {},
   "outputs": [
    {
     "name": "stdout",
     "output_type": "stream",
     "text": [
      "{1: None, 2: None, 3: None, 4: None}\n"
     ]
    }
   ],
   "source": [
    "key=(1,2,3,4)\n",
    "f= d.fromkeys(key)\n",
    "print(f)"
   ]
  },
  {
   "cell_type": "code",
   "execution_count": 68,
   "metadata": {},
   "outputs": [
    {
     "name": "stdout",
     "output_type": "stream",
     "text": [
      "{1: (2, 3, 4, 5), 2: (2, 3, 4, 5), 3: (2, 3, 4, 5), 4: (2, 3, 4, 5)}\n"
     ]
    }
   ],
   "source": [
    "key=(1,2,3,4)\n",
    "values=(2,3,4,5)\n",
    "k= d.fromkeys(key,values)\n",
    "print(k)"
   ]
  },
  {
   "cell_type": "code",
   "execution_count": 70,
   "metadata": {},
   "outputs": [
    {
     "name": "stdout",
     "output_type": "stream",
     "text": [
      "{'one': 'mobile', 'two': 'wallet', 'three': 'money', 'four': 'bikekeys'}\n"
     ]
    }
   ],
   "source": [
    "pocket=dict(one=\"mobile\",two=\"wallet\",three=\"money\",four=\"bikekeys\")\n",
    "print(pocket)"
   ]
  },
  {
   "cell_type": "code",
   "execution_count": 72,
   "metadata": {},
   "outputs": [
    {
     "data": {
      "text/plain": [
       "'wallet'"
      ]
     },
     "execution_count": 72,
     "metadata": {},
     "output_type": "execute_result"
    }
   ],
   "source": [
    "pocket.get(\"two\")"
   ]
  },
  {
   "cell_type": "code",
   "execution_count": 73,
   "metadata": {},
   "outputs": [
    {
     "data": {
      "text/plain": [
       "'money'"
      ]
     },
     "execution_count": 73,
     "metadata": {},
     "output_type": "execute_result"
    }
   ],
   "source": [
    "pocket.get(\"three\")"
   ]
  },
  {
   "cell_type": "code",
   "execution_count": 86,
   "metadata": {},
   "outputs": [
    {
     "name": "stdout",
     "output_type": "stream",
     "text": [
      "{'one': 'mobile', 'two': 'wallet', 'three': 'money', 'four': 'mobile'}\n"
     ]
    }
   ],
   "source": [
    "pocket.update(four=\"mobile\")\n",
    "print(pocket)"
   ]
  },
  {
   "cell_type": "code",
   "execution_count": 87,
   "metadata": {},
   "outputs": [
    {
     "name": "stdout",
     "output_type": "stream",
     "text": [
      "{'one': 'sanitizer', 'two': 'wallet', 'three': 'money', 'four': 'mobile'}\n"
     ]
    }
   ],
   "source": [
    "pocket.update(one=\"sanitizer\")\n",
    "print(pocket)"
   ]
  },
  {
   "cell_type": "code",
   "execution_count": 88,
   "metadata": {},
   "outputs": [
    {
     "name": "stdout",
     "output_type": "stream",
     "text": [
      "{'one': 'sani', 'two': 'wallet', 'three': 'money', 'four': 'mobile'}\n"
     ]
    }
   ],
   "source": [
    "pocket[\"one\"]=\"sani\"\n",
    "print(pocket)"
   ]
  },
  {
   "cell_type": "code",
   "execution_count": 89,
   "metadata": {},
   "outputs": [
    {
     "name": "stdout",
     "output_type": "stream",
     "text": [
      "{'one': 'sanitizer', 'two': 'mobile', 'three': 'wallet', 'four': 'bikekeys'}\n"
     ]
    }
   ],
   "source": [
    "c=dict(one=\"sanitizer\",two=\"mobile\",three=\"wallet\",four=\"bikekeys\")\n",
    "pocket.update(c)\n",
    "print(pocket)"
   ]
  },
  {
   "cell_type": "code",
   "execution_count": 103,
   "metadata": {},
   "outputs": [
    {
     "data": {
      "text/plain": [
       "'bikekeys'"
      ]
     },
     "execution_count": 103,
     "metadata": {},
     "output_type": "execute_result"
    }
   ],
   "source": [
    "pocket=dict(one=\"sanitizer\",two=\"mobile\",three=\"wallet\",four=\"bikekeys\")\n",
    "pocket.pop(\"four\")"
   ]
  },
  {
   "cell_type": "code",
   "execution_count": 104,
   "metadata": {},
   "outputs": [
    {
     "name": "stdout",
     "output_type": "stream",
     "text": [
      "{'one': 'sanitizer', 'two': 'mobile', 'three': 'wallet'}\n"
     ]
    }
   ],
   "source": [
    "print(pocket)"
   ]
  },
  {
   "cell_type": "code",
   "execution_count": 105,
   "metadata": {},
   "outputs": [
    {
     "name": "stdout",
     "output_type": "stream",
     "text": [
      "{'one': 'sanitizer', 'two': 'mobile'}\n"
     ]
    }
   ],
   "source": [
    "pocket.pop(\"three\")\n",
    "print(pocket)"
   ]
  },
  {
   "cell_type": "code",
   "execution_count": 106,
   "metadata": {},
   "outputs": [
    {
     "name": "stdout",
     "output_type": "stream",
     "text": [
      "{'one': 'sanitizer'}\n"
     ]
    }
   ],
   "source": [
    "pocket.pop(\"two\")\n",
    "print(pocket)"
   ]
  },
  {
   "cell_type": "code",
   "execution_count": 107,
   "metadata": {},
   "outputs": [
    {
     "name": "stdout",
     "output_type": "stream",
     "text": [
      "{}\n"
     ]
    }
   ],
   "source": [
    "pocket.pop(\"one\")\n",
    "print(pocket)"
   ]
  },
  {
   "cell_type": "code",
   "execution_count": 109,
   "metadata": {},
   "outputs": [
    {
     "name": "stdout",
     "output_type": "stream",
     "text": [
      "{'one': 'sanitizer', 'two': 'mobile', 'three': 'wallet'}\n"
     ]
    }
   ],
   "source": [
    "pocket=dict(one=\"sanitizer\",two=\"mobile\",three=\"wallet\",four=\"bikekeys\")\n",
    "pocket.popitem()\n",
    "print(pocket)"
   ]
  },
  {
   "cell_type": "code",
   "execution_count": 110,
   "metadata": {},
   "outputs": [
    {
     "data": {
      "text/plain": [
       "dict_keys(['one', 'two', 'three', 'four'])"
      ]
     },
     "execution_count": 110,
     "metadata": {},
     "output_type": "execute_result"
    }
   ],
   "source": [
    "pocket=dict(one=\"sanitizer\",two=\"mobile\",three=\"wallet\",four=\"bikekeys\")\n",
    "pocket.keys()"
   ]
  },
  {
   "cell_type": "code",
   "execution_count": 111,
   "metadata": {},
   "outputs": [
    {
     "data": {
      "text/plain": [
       "dict_values(['sanitizer', 'mobile', 'wallet', 'bikekeys'])"
      ]
     },
     "execution_count": 111,
     "metadata": {},
     "output_type": "execute_result"
    }
   ],
   "source": [
    "pocket.values()"
   ]
  },
  {
   "cell_type": "code",
   "execution_count": 112,
   "metadata": {},
   "outputs": [
    {
     "data": {
      "text/plain": [
       "dict_items([('one', 'sanitizer'), ('two', 'mobile'), ('three', 'wallet'), ('four', 'bikekeys')])"
      ]
     },
     "execution_count": 112,
     "metadata": {},
     "output_type": "execute_result"
    }
   ],
   "source": [
    "pocket.items()"
   ]
  },
  {
   "cell_type": "code",
   "execution_count": 114,
   "metadata": {},
   "outputs": [
    {
     "name": "stdout",
     "output_type": "stream",
     "text": [
      "{}\n"
     ]
    }
   ],
   "source": [
    "pocket.clear()\n",
    "print(pocket)"
   ]
  },
  {
   "cell_type": "code",
   "execution_count": 115,
   "metadata": {},
   "outputs": [
    {
     "name": "stdout",
     "output_type": "stream",
     "text": [
      "{'one': 'sanitizer', 'two': 'mobile', 'three': 'wallet', 'four': 'bikekeys'}\n"
     ]
    }
   ],
   "source": [
    "pocket=dict(one=\"sanitizer\",two=\"mobile\",three=\"wallet\",four=\"bikekeys\")\n",
    "my_pocket= pocket.copy()\n",
    "print(my_pocket)\n"
   ]
  },
  {
   "cell_type": "code",
   "execution_count": 116,
   "metadata": {},
   "outputs": [
    {
     "data": {
      "text/plain": [
       "'sanitizer'"
      ]
     },
     "execution_count": 116,
     "metadata": {},
     "output_type": "execute_result"
    }
   ],
   "source": [
    "pocket=dict(one=\"sanitizer\",two=\"mobile\",three=\"wallet\",four=\"bikekeys\")\n",
    "pocket.setdefault(\"one\")\n"
   ]
  },
  {
   "cell_type": "code",
   "execution_count": 118,
   "metadata": {},
   "outputs": [
    {
     "name": "stdout",
     "output_type": "stream",
     "text": [
      "{'one': 'sanitizer', 'two': 'mobile', 'three': 'wallet', 'four': 'bikekeys', 'five': 'money'}\n"
     ]
    }
   ],
   "source": [
    "pocket.setdefault(\"five\",\"money\")\n",
    "print(pocket)\n"
   ]
  },
  {
   "cell_type": "code",
   "execution_count": 119,
   "metadata": {},
   "outputs": [
    {
     "name": "stdout",
     "output_type": "stream",
     "text": [
      "{'one': 'sanitizer', 'two': 'mobile', 'three': 'wallet', 'four': 'bikekeys', 'five': 'money', 'six': None}\n"
     ]
    }
   ],
   "source": [
    "pocket.setdefault(\"six\")\n",
    "print(pocket)"
   ]
  },
  {
   "cell_type": "code",
   "execution_count": 123,
   "metadata": {},
   "outputs": [
    {
     "name": "stdout",
     "output_type": "stream",
     "text": [
      "{'jyoti': {50000}, 'ram': {50000}, 'dam': {50000}}\n"
     ]
    }
   ],
   "source": [
    "student={\"jyoti\",\"ram\",\"dam\"}\n",
    "salary={50000}\n",
    "list_of_salary= pocket.fromkeys(student,salary)\n",
    "print(list_of_salary)\n",
    "\n"
   ]
  },
  {
   "cell_type": "code",
   "execution_count": 125,
   "metadata": {},
   "outputs": [
    {
     "data": {
      "text/plain": [
       "True"
      ]
     },
     "execution_count": 125,
     "metadata": {},
     "output_type": "execute_result"
    }
   ],
   "source": [
    "pocket=dict(one=\"sanitizer\",two=\"mobile\",three=\"wallet\",four=\"bikekeys\")\n",
    "any(pocket)"
   ]
  },
  {
   "cell_type": "code",
   "execution_count": 126,
   "metadata": {},
   "outputs": [
    {
     "data": {
      "text/plain": [
       "True"
      ]
     },
     "execution_count": 126,
     "metadata": {},
     "output_type": "execute_result"
    }
   ],
   "source": [
    "all(pocket)"
   ]
  },
  {
   "cell_type": "code",
   "execution_count": 127,
   "metadata": {},
   "outputs": [
    {
     "data": {
      "text/plain": [
       "'two'"
      ]
     },
     "execution_count": 127,
     "metadata": {},
     "output_type": "execute_result"
    }
   ],
   "source": [
    "max(pocket)"
   ]
  },
  {
   "cell_type": "code",
   "execution_count": 128,
   "metadata": {},
   "outputs": [
    {
     "data": {
      "text/plain": [
       "'four'"
      ]
     },
     "execution_count": 128,
     "metadata": {},
     "output_type": "execute_result"
    }
   ],
   "source": [
    "min(pocket)"
   ]
  },
  {
   "cell_type": "code",
   "execution_count": 129,
   "metadata": {},
   "outputs": [
    {
     "data": {
      "text/plain": [
       "4"
      ]
     },
     "execution_count": 129,
     "metadata": {},
     "output_type": "execute_result"
    }
   ],
   "source": [
    "len(pocket)"
   ]
  },
  {
   "cell_type": "code",
   "execution_count": 132,
   "metadata": {},
   "outputs": [
    {
     "data": {
      "text/plain": [
       "['four', 'one', 'three', 'two']"
      ]
     },
     "execution_count": 132,
     "metadata": {},
     "output_type": "execute_result"
    }
   ],
   "source": [
    "sorted(pocket)"
   ]
  },
  {
   "cell_type": "code",
   "execution_count": 134,
   "metadata": {},
   "outputs": [
    {
     "name": "stdout",
     "output_type": "stream",
     "text": [
      "{0: 'one', 1: 'two', 2: 'three', 3: 'four'}\n"
     ]
    }
   ],
   "source": [
    "pocket=dict(one=\"sanitizer\",two=\"mobile\",three=\"wallet\",four=\"bikekeys\")\n",
    "my_pocket=enumerate(pocket)\n",
    "print(dict(my_pocket))"
   ]
  },
  {
   "cell_type": "code",
   "execution_count": 135,
   "metadata": {},
   "outputs": [
    {
     "data": {
      "text/plain": [
       "['one', 'two', 'three', 'four']"
      ]
     },
     "execution_count": 135,
     "metadata": {},
     "output_type": "execute_result"
    }
   ],
   "source": [
    "pocket=dict(one=\"sanitizer\",two=\"mobile\",three=\"wallet\",four=\"bikekeys\")\n",
    "list(pocket)"
   ]
  },
  {
   "cell_type": "code",
   "execution_count": 137,
   "metadata": {},
   "outputs": [
    {
     "data": {
      "text/plain": [
       "37"
      ]
     },
     "execution_count": 137,
     "metadata": {},
     "output_type": "execute_result"
    }
   ],
   "source": [
    "pocket={1,2,34}\n",
    "sum(pocket)"
   ]
  },
  {
   "cell_type": "code",
   "execution_count": 152,
   "metadata": {},
   "outputs": [
    {
     "name": "stdout",
     "output_type": "stream",
     "text": [
      "{'user1': {'name': 'John', 'age': '27', 'sex': 'Male'}, 'user2': {'name': 'Marie', 'age': '22', 'sex': 'Female'}}\n"
     ]
    }
   ],
   "source": [
    "users = {'user1': {'name': 'John', 'age': '27', 'sex': 'Male'},\n",
    "          'user2': {'name': 'Marie', 'age': '22', 'sex': 'Female'}}\n",
    "print(users)"
   ]
  },
  {
   "cell_type": "code",
   "execution_count": 154,
   "metadata": {},
   "outputs": [
    {
     "name": "stdout",
     "output_type": "stream",
     "text": [
      "Marie\n"
     ]
    }
   ],
   "source": [
    "print(users['user2']['name'])"
   ]
  },
  {
   "cell_type": "code",
   "execution_count": 156,
   "metadata": {},
   "outputs": [
    {
     "name": "stdout",
     "output_type": "stream",
     "text": [
      "[{'keys': {'jyoti': 1, 'padhi': 2}}, {'keys': {'rahul': 3, 'ranjan': 4}}]\n"
     ]
    }
   ],
   "source": [
    "user=[{'keys':{\"jyoti\":1,\"padhi\":2}},{'keys':{'rahul':3,'ranjan':4}}]\n",
    "print(user)"
   ]
  },
  {
   "attachments": {
    "images.jfif": {
     "image/jpeg": "[encoded data removed]"
    }
   },
   "cell_type": "markdown",
   "metadata": {},
   "source": [
    "# Key point\n",
    "![images.jfif](attachment:images.jfif)"
   ]
  },
  {
   "cell_type": "markdown",
   "metadata": {},
   "source": [
    "* What you have to do is,Practice and practice"
   ]
  },
  {
   "cell_type": "code",
   "execution_count": null,
   "metadata": {},
   "outputs": [],
   "source": []
  }
 ],
 "metadata": {
  "kernelspec": {
   "display_name": "Python 3",
   "language": "python",
   "name": "python3"
  },
  "language_info": {
   "codemirror_mode": {
    "name": "ipython",
    "version": 3
   },
   "file_extension": ".py",
   "mimetype": "text/x-python",
   "name": "python",
   "nbconvert_exporter": "python",
   "pygments_lexer": "ipython3",
   "version": "3.8.5"
  }
 },
 "nbformat": 4,
 "nbformat_minor": 4
}
