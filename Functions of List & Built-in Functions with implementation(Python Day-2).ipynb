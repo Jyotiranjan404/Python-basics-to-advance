{
 "cells": [
  {
   "cell_type": "markdown",
   "metadata": {},
   "source": [
    "# List vs tuple vs dictionary\n",
    "* List and tuple is an ordered collection of items. Dictionary is unordered collection. List and dictionary objects are mutable i.e. it is possible to add new item or delete and item from it. Tuple is an immutable object,here we can't do the same."
   ]
  },
  {
   "cell_type": "markdown",
   "metadata": {},
   "source": [
    "# List\n",
    "* How to creat a list ?\n",
    "* What are all functions are in list ?\n",
    "* Practical implementation ?\n"
   ]
  },
  {
   "cell_type": "markdown",
   "metadata": {},
   "source": [
    "# Fuctions for list in python: \n",
    "* append()- Add a single element to the end of the list\n",
    "* extend()- adds iterable elements to the end of the list\n",
    "* remove()- Removes item from the list\n",
    "* pop()- Removes element at the given index\n",
    "* insert(index,\"items\")- insert an element to the list\n",
    "* clear()- Removes all Items from the List\n",
    "* count()- returns count of the element in the list\n",
    "* reverse()- reverses the list\n",
    "* index()- returns the index of the element in the list\n",
    "* copy()- returns a shallow copy of the list\n",
    "* sort()- sorts elements of a list"
   ]
  },
  {
   "cell_type": "markdown",
   "metadata": {},
   "source": [
    "# Built-in fuctions for list: \n",
    "* all()\n",
    "* any()\n",
    "* min()\n",
    "* max()\n",
    "* enumerate()\n",
    "* sum()\n",
    "* sorted()\n",
    "* len()\n",
    "* list()\n"
   ]
  },
  {
   "cell_type": "code",
   "execution_count": 1,
   "metadata": {},
   "outputs": [
    {
     "data": {
      "text/plain": [
       "list"
      ]
     },
     "execution_count": 1,
     "metadata": {},
     "output_type": "execute_result"
    }
   ],
   "source": [
    "# In order to access the list items refer to the index number.Use the index operator [ ] to access an item in a list \n",
    "x=[]\n",
    "type(x)"
   ]
  },
  {
   "cell_type": "code",
   "execution_count": 2,
   "metadata": {},
   "outputs": [
    {
     "data": {
      "text/plain": [
       "list"
      ]
     },
     "execution_count": 2,
     "metadata": {},
     "output_type": "execute_result"
    }
   ],
   "source": [
    "a=[1,2,3,4,5,6,7]\n",
    "type(a)"
   ]
  },
  {
   "cell_type": "code",
   "execution_count": 3,
   "metadata": {},
   "outputs": [
    {
     "data": {
      "text/plain": [
       "list"
      ]
     },
     "execution_count": 3,
     "metadata": {},
     "output_type": "execute_result"
    }
   ],
   "source": [
    "b=[\"jyoti\",1,2.4]\n",
    "type(b)"
   ]
  },
  {
   "cell_type": "code",
   "execution_count": 4,
   "metadata": {},
   "outputs": [
    {
     "name": "stdout",
     "output_type": "stream",
     "text": [
      "['jyoti', 1, 2.4]\n"
     ]
    }
   ],
   "source": [
    "print(b)"
   ]
  },
  {
   "cell_type": "code",
   "execution_count": 5,
   "metadata": {},
   "outputs": [
    {
     "name": "stdout",
     "output_type": "stream",
     "text": [
      "['jyotiranjan', 'ranjan', [1, 2]]\n"
     ]
    }
   ],
   "source": [
    "#Creating a Nested list means list inside list\n",
    "c=[\"jyotiranjan\",\"ranjan\",[1,2]]\n",
    "print(c)"
   ]
  },
  {
   "cell_type": "code",
   "execution_count": 6,
   "metadata": {},
   "outputs": [
    {
     "name": "stdout",
     "output_type": "stream",
     "text": [
      "['apple', 'mango', 'carrot', 'banana']\n"
     ]
    }
   ],
   "source": [
    "shoppinglist=[\"apple\",\"mango\",\"carrot\",\"banana\"]\n",
    "print(shoppinglist)"
   ]
  },
  {
   "cell_type": "code",
   "execution_count": 7,
   "metadata": {},
   "outputs": [
    {
     "name": "stdout",
     "output_type": "stream",
     "text": [
      "i have 4 items to purchase\n"
     ]
    }
   ],
   "source": [
    "#Here len()means,it gonna give you the count of element present inside your created list\n",
    "print(\"i have\",len(shoppinglist),\"items to purchase\")"
   ]
  },
  {
   "cell_type": "code",
   "execution_count": 8,
   "metadata": {},
   "outputs": [
    {
     "name": "stdout",
     "output_type": "stream",
     "text": [
      "i have 4 items to purchase\n"
     ]
    },
    {
     "data": {
      "text/plain": [
       "set"
      ]
     },
     "execution_count": 8,
     "metadata": {},
     "output_type": "execute_result"
    }
   ],
   "source": [
    "shoppinglist={\"apple\",\"mango\",\"carrot\",\"banana\"}\n",
    "print(\"i have\",len(shoppinglist),\"items to purchase\")\n",
    "type(shoppinglist)"
   ]
  },
  {
   "cell_type": "code",
   "execution_count": 9,
   "metadata": {},
   "outputs": [
    {
     "name": "stdout",
     "output_type": "stream",
     "text": [
      "i have 4 items to purchase\n"
     ]
    }
   ],
   "source": [
    "#This is another way \n",
    "shoppinglist=[\"apple\",\"mango\",\"carrot\",\"banana\"]\n",
    "print(f\"i have {len(shoppinglist)} items to purchase\")\n"
   ]
  },
  {
   "cell_type": "code",
   "execution_count": 10,
   "metadata": {},
   "outputs": [
    {
     "name": "stdout",
     "output_type": "stream",
     "text": [
      "['apple', 'mango', 'carrot', 'banana', 'rice']\n"
     ]
    }
   ],
   "source": [
    "# append() function for adding new element inside a list\n",
    "shoppinglist=[\"apple\",\"mango\",\"carrot\",\"banana\"]\n",
    "shoppinglist.append(\"rice\")\n",
    "print(shoppinglist)\n"
   ]
  },
  {
   "cell_type": "code",
   "execution_count": 11,
   "metadata": {},
   "outputs": [
    {
     "name": "stdout",
     "output_type": "stream",
     "text": [
      "['apple', 'mango', 'carrot', 'banana', 'rice', 'chair', 'pen', 'table']\n"
     ]
    }
   ],
   "source": [
    "#extend() function is use for adding a list into a list,like this\n",
    "shoppinglist.extend([\"chair\",\"pen\",\"table\"])\n",
    "print(shoppinglist)"
   ]
  },
  {
   "cell_type": "code",
   "execution_count": 12,
   "metadata": {},
   "outputs": [
    {
     "name": "stdout",
     "output_type": "stream",
     "text": [
      "['apple', 'mango', 'carrot', 'banana', 'rice', 'chair', 'pen', 'table', 'x', 'y', 'z']\n"
     ]
    }
   ],
   "source": [
    "shoplist1=[\"x\",\"y\",\"z\"]\n",
    "final_shoplist=shoppinglist+shoplist1\n",
    "print(final_shoplist)"
   ]
  },
  {
   "attachments": {
    "python-list-index.png": {
     "image/png": "[encoded data removed]"
    }
   },
   "cell_type": "markdown",
   "metadata": {},
   "source": [
    "![python-list-index.png](attachment:python-list-index.png)"
   ]
  },
  {
   "cell_type": "code",
   "execution_count": 13,
   "metadata": {},
   "outputs": [
    {
     "data": {
      "text/plain": [
       "'apple'"
      ]
     },
     "execution_count": 13,
     "metadata": {},
     "output_type": "execute_result"
    }
   ],
   "source": [
    "#Here we are calling element by passing index value\n",
    "final_shoplist[0]"
   ]
  },
  {
   "cell_type": "code",
   "execution_count": 14,
   "metadata": {},
   "outputs": [
    {
     "data": {
      "text/plain": [
       "'rice'"
      ]
     },
     "execution_count": 14,
     "metadata": {},
     "output_type": "execute_result"
    }
   ],
   "source": [
    "final_shoplist[4]"
   ]
  },
  {
   "cell_type": "code",
   "execution_count": 15,
   "metadata": {},
   "outputs": [
    {
     "data": {
      "text/plain": [
       "'table'"
      ]
     },
     "execution_count": 15,
     "metadata": {},
     "output_type": "execute_result"
    }
   ],
   "source": [
    "final_shoplist[-4]"
   ]
  },
  {
   "cell_type": "code",
   "execution_count": 16,
   "metadata": {},
   "outputs": [
    {
     "data": {
      "text/plain": [
       "['mango', 'carrot', 'banana']"
      ]
     },
     "execution_count": 16,
     "metadata": {},
     "output_type": "execute_result"
    }
   ],
   "source": [
    "#Here we are calling specific items by passing its index values,it means i need -10 to till -7 but not -7.\n",
    "final_shoplist[-10:-7]"
   ]
  },
  {
   "cell_type": "code",
   "execution_count": 17,
   "metadata": {},
   "outputs": [
    {
     "data": {
      "text/plain": [
       "['apple', 'mango', 'carrot', 'banana']"
      ]
     },
     "execution_count": 17,
     "metadata": {},
     "output_type": "execute_result"
    }
   ],
   "source": [
    "#It means everything till -7 but not -7\n",
    "final_shoplist[:-7]"
   ]
  },
  {
   "cell_type": "code",
   "execution_count": 18,
   "metadata": {},
   "outputs": [
    {
     "data": {
      "text/plain": [
       "['pen', 'table', 'x', 'y', 'z']"
      ]
     },
     "execution_count": 18,
     "metadata": {},
     "output_type": "execute_result"
    }
   ],
   "source": [
    "final_shoplist[-5:]"
   ]
  },
  {
   "cell_type": "code",
   "execution_count": 19,
   "metadata": {},
   "outputs": [
    {
     "data": {
      "text/plain": [
       "'a'"
      ]
     },
     "execution_count": 19,
     "metadata": {},
     "output_type": "execute_result"
    }
   ],
   "source": [
    "final_shoplist[-8][-3]"
   ]
  },
  {
   "cell_type": "code",
   "execution_count": 20,
   "metadata": {},
   "outputs": [
    {
     "data": {
      "text/plain": [
       "['z',\n",
       " 'y',\n",
       " 'x',\n",
       " 'table',\n",
       " 'pen',\n",
       " 'chair',\n",
       " 'rice',\n",
       " 'banana',\n",
       " 'carrot',\n",
       " 'mango',\n",
       " 'apple']"
      ]
     },
     "execution_count": 20,
     "metadata": {},
     "output_type": "execute_result"
    }
   ],
   "source": [
    "# This is we are representing all values inside a list\n",
    "final_shoplist[::-1]"
   ]
  },
  {
   "cell_type": "code",
   "execution_count": 21,
   "metadata": {},
   "outputs": [
    {
     "data": {
      "text/plain": [
       "['z', 'x', 'pen', 'rice', 'carrot', 'apple']"
      ]
     },
     "execution_count": 21,
     "metadata": {},
     "output_type": "execute_result"
    }
   ],
   "source": [
    "# here i mentioned -2 means,it moves 2 step forword,results gonna be like this\n",
    "final_shoplist[::-2]"
   ]
  },
  {
   "cell_type": "code",
   "execution_count": 22,
   "metadata": {},
   "outputs": [
    {
     "data": {
      "text/plain": [
       "['apple',\n",
       " 'mango',\n",
       " 'carrot',\n",
       " 'banana',\n",
       " 'rice',\n",
       " 'chair',\n",
       " 'pen',\n",
       " 'table',\n",
       " 'x',\n",
       " 'y',\n",
       " 'z']"
      ]
     },
     "execution_count": 22,
     "metadata": {},
     "output_type": "execute_result"
    }
   ],
   "source": [
    "final_shoplist[::1]"
   ]
  },
  {
   "cell_type": "code",
   "execution_count": 23,
   "metadata": {},
   "outputs": [
    {
     "data": {
      "text/plain": [
       "['apple', 'carrot', 'rice', 'pen', 'x', 'z']"
      ]
     },
     "execution_count": 23,
     "metadata": {},
     "output_type": "execute_result"
    }
   ],
   "source": [
    "final_shoplist[::2]"
   ]
  },
  {
   "cell_type": "code",
   "execution_count": 24,
   "metadata": {},
   "outputs": [
    {
     "name": "stdout",
     "output_type": "stream",
     "text": [
      "['pen', 'paper', 'book', ['notebook', 'x']]\n"
     ]
    }
   ],
   "source": [
    "#Here if i want to use append() to pass a list inside a list.results gonna be like this, it gives you nested list\n",
    "x=[\"pen\",\"paper\",\"book\"]\n",
    "x.append([\"notebook\",\"x\"])\n",
    "print(x)"
   ]
  },
  {
   "cell_type": "code",
   "execution_count": 25,
   "metadata": {},
   "outputs": [
    {
     "name": "stdout",
     "output_type": "stream",
     "text": [
      "['pen', 'paper', 'book', ['notebook', 'x'], 'eraser', 'colours']\n"
     ]
    }
   ],
   "source": [
    "x.extend([\"eraser\",\"colours\"])\n",
    "print(x)"
   ]
  },
  {
   "cell_type": "code",
   "execution_count": 26,
   "metadata": {},
   "outputs": [
    {
     "name": "stdout",
     "output_type": "stream",
     "text": [
      "my_list: ['pen', 'paper', 'book', ['notebook', 'x'], 'eraser', 'colours', 'red', 'yellow', 'blue']\n"
     ]
    }
   ],
   "source": [
    "# This is another way to add new list insde a list by passing \"+\" operater]\n",
    "y=[\"red\",\"yellow\",\"blue\"]\n",
    "final_shoppinglist= x+y\n",
    "print(\"my_list:\", final_shoppinglist)"
   ]
  },
  {
   "cell_type": "code",
   "execution_count": 27,
   "metadata": {},
   "outputs": [
    {
     "name": "stdout",
     "output_type": "stream",
     "text": [
      "['paper', 'book', ['notebook', 'x'], 'eraser', 'colours', 'red', 'yellow', 'blue']\n"
     ]
    }
   ],
   "source": [
    "#remove() is used for removing some elements from a list\n",
    "list= ['pen', 'paper', 'book', ['notebook', 'x'], 'eraser', 'colours', 'red', 'yellow', 'blue']\n",
    "list.remove('pen')\n",
    "print(list)"
   ]
  },
  {
   "cell_type": "code",
   "execution_count": 28,
   "metadata": {},
   "outputs": [
    {
     "name": "stdout",
     "output_type": "stream",
     "text": [
      "[2, 1, 3, 42, 4, 5, 5, 3, 2, 4, 5, 3, 5, 6, 3, 2, 5, 6, 3]\n"
     ]
    }
   ],
   "source": [
    "list1=[1,2,1,3,42,4,5,5,3,2,4,5,3,5,6,3,2,5,6,3]\n",
    "list1.remove(1)\n",
    "print(list1)"
   ]
  },
  {
   "cell_type": "code",
   "execution_count": 29,
   "metadata": {},
   "outputs": [
    {
     "name": "stdout",
     "output_type": "stream",
     "text": [
      "[2, 1, 3, 42, 4, 5, 5, 3, 2, 4, 5, 3, 5, 6, 3, 2, 5, 6, 3]\n"
     ]
    }
   ],
   "source": [
    "list1=[1,2,1,3,42,4,5,5,3,2,4,5,3,5,6,3,2,5,6,3]\n",
    "list1.remove(1)\n",
    "print(list1)"
   ]
  },
  {
   "cell_type": "code",
   "execution_count": 30,
   "metadata": {},
   "outputs": [
    {
     "name": "stdout",
     "output_type": "stream",
     "text": [
      "[2, 3, 42, 4, 5, 5, 3, 2, 4, 5, 3, 5, 6, 3, 2, 5, 6, 3]\n"
     ]
    }
   ],
   "source": [
    "list1.remove(1)\n",
    "print(list1)"
   ]
  },
  {
   "cell_type": "code",
   "execution_count": 31,
   "metadata": {},
   "outputs": [
    {
     "name": "stdout",
     "output_type": "stream",
     "text": [
      "['pen', 'paper', 'book', 'eraser', 'colours', 'red', 'yellow', 'blue']\n"
     ]
    }
   ],
   "source": [
    "list= ['pen', 'paper', 'book', ['notebook', 'x'], 'eraser', 'colours', 'red', 'yellow', 'blue']\n",
    "list.remove(['notebook', 'x'])\n",
    "print(list)"
   ]
  },
  {
   "cell_type": "code",
   "execution_count": 32,
   "metadata": {},
   "outputs": [
    {
     "name": "stdout",
     "output_type": "stream",
     "text": [
      "['rice', 'pen', 'paper', 'book', 'eraser', 'colours', 'red', 'yellow', 'blue']\n"
     ]
    }
   ],
   "source": [
    "# insert() means we are adding a element w.r.t a specific index,result will be like before element got deleted,new element got added\n",
    "list.insert(0,\"rice\")\n",
    "print(list)"
   ]
  },
  {
   "cell_type": "code",
   "execution_count": 33,
   "metadata": {},
   "outputs": [
    {
     "name": "stdout",
     "output_type": "stream",
     "text": [
      "['rice', 'pen', 'paper', 'book', 'eraser', 'dal', 'colours', 'red', 'yellow', 'blue']\n"
     ]
    }
   ],
   "source": [
    "list.insert(5,\"dal\")\n",
    "print(list)"
   ]
  },
  {
   "cell_type": "code",
   "execution_count": 34,
   "metadata": {},
   "outputs": [
    {
     "name": "stdout",
     "output_type": "stream",
     "text": [
      "['rice', 'pen', 'paper', 'book', 'eraser', 'mango', 'dal', 'colours', 'red', 'yellow', 'blue']\n"
     ]
    }
   ],
   "source": [
    "list.insert(-5,\"mango\")\n",
    "print(list)"
   ]
  },
  {
   "cell_type": "code",
   "execution_count": 35,
   "metadata": {},
   "outputs": [
    {
     "name": "stdout",
     "output_type": "stream",
     "text": [
      "['rice', 'pen', 'paper', 'book', 'eraser', 'mango', 'mango', 'dal', 'colours', 'red', 'yellow', 'blue']\n"
     ]
    }
   ],
   "source": [
    "list.insert(-5,\"mango\")\n",
    "print(list)"
   ]
  },
  {
   "cell_type": "code",
   "execution_count": 36,
   "metadata": {},
   "outputs": [
    {
     "name": "stdout",
     "output_type": "stream",
     "text": [
      "['rice', 'pen', 'paper', 'book', 'eraser', 'mango', 'mango', 'dal', 'colours', 'red', 'yellow', 'mango', 'blue']\n"
     ]
    }
   ],
   "source": [
    "list.insert(-1,\"mango\")\n",
    "print(list)"
   ]
  },
  {
   "cell_type": "code",
   "execution_count": 37,
   "metadata": {},
   "outputs": [
    {
     "name": "stdout",
     "output_type": "stream",
     "text": [
      "['rice', 'pen', 'paper', 'book', 'eraser', 'mango', 'dal', 'colours', 'red', 'yellow', 'mango', 'blue']\n"
     ]
    }
   ],
   "source": [
    "list.remove(\"mango\")\n",
    "print(list)"
   ]
  },
  {
   "cell_type": "code",
   "execution_count": 38,
   "metadata": {},
   "outputs": [
    {
     "name": "stdout",
     "output_type": "stream",
     "text": [
      "['rice', 'pen', 'paper', 'book', 'eraser', 'dal', 'colours', 'red', 'yellow', 'mango', 'blue']\n"
     ]
    }
   ],
   "source": [
    "list.remove(\"mango\")\n",
    "print(list)"
   ]
  },
  {
   "cell_type": "code",
   "execution_count": 39,
   "metadata": {},
   "outputs": [
    {
     "name": "stdout",
     "output_type": "stream",
     "text": [
      "['pen', 'paper', 'book', 'eraser', 'dal', 'colours', 'red', 'yellow', 'mango', 'blue']\n"
     ]
    }
   ],
   "source": [
    "list.remove(\"rice\")\n",
    "print(list)"
   ]
  },
  {
   "cell_type": "code",
   "execution_count": 40,
   "metadata": {},
   "outputs": [
    {
     "name": "stdout",
     "output_type": "stream",
     "text": [
      "['pen', 'paper', 'book', 'eraser', 'dal', 'colours', 'red', 'yellow', 'blue', 'rice']\n"
     ]
    }
   ],
   "source": [
    "list1=['pen', 'paper', 'book', 'eraser', 'dal', 'colours', 'red', 'yellow', 'blue']\n",
    "list1.append(\"rice\")\n",
    "print(list1)"
   ]
  },
  {
   "cell_type": "code",
   "execution_count": 41,
   "metadata": {},
   "outputs": [
    {
     "name": "stdout",
     "output_type": "stream",
     "text": [
      "['colour', 'pen', 'paper', 'book', 'eraser', 'dal', 'colours', 'red', 'yellow', 'blue', 'rice']\n"
     ]
    }
   ],
   "source": [
    "list1.insert(0,\"colour\")\n",
    "print(list1)"
   ]
  },
  {
   "cell_type": "code",
   "execution_count": 42,
   "metadata": {},
   "outputs": [
    {
     "name": "stdout",
     "output_type": "stream",
     "text": [
      "['colour', 'pen', 'paper', 'book', 'eraser', 'dal', 'colours', 'red', 'yellow', 'blue', 'rice', 'mango', 'banana']\n"
     ]
    }
   ],
   "source": [
    "list1.extend([\"mango\",\"banana\"])\n",
    "print(list1)"
   ]
  },
  {
   "cell_type": "code",
   "execution_count": 43,
   "metadata": {},
   "outputs": [
    {
     "name": "stdout",
     "output_type": "stream",
     "text": [
      "['colour', 'pen', 'paper', 'book', 'eraser', 'dal', 'colours', 'red', 'yellow', 'blue', 'rice', 'mango', 'carrot', 'banana']\n"
     ]
    }
   ],
   "source": [
    "list1.insert(-1,\"carrot\")\n",
    "print(list1)"
   ]
  },
  {
   "cell_type": "code",
   "execution_count": 44,
   "metadata": {},
   "outputs": [
    {
     "name": "stdout",
     "output_type": "stream",
     "text": [
      "['colour', 'pen', 'paper', 'book', 'dal', 'colours', 'red', 'yellow', 'blue', 'rice', 'mango', 'carrot', 'banana']\n"
     ]
    }
   ],
   "source": [
    "list1.remove(\"eraser\")\n",
    "print(list1)"
   ]
  },
  {
   "cell_type": "code",
   "execution_count": 45,
   "metadata": {},
   "outputs": [
    {
     "name": "stdout",
     "output_type": "stream",
     "text": [
      "['pen', 'paper', 'book', 'dal', 'colours', 'red', 'yellow', 'blue', 'rice', 'mango', 'carrot', 'banana']\n"
     ]
    }
   ],
   "source": [
    "#pop() is used for removing a element from a speific index\n",
    "list1.pop(0)\n",
    "print(list1)"
   ]
  },
  {
   "cell_type": "code",
   "execution_count": 46,
   "metadata": {},
   "outputs": [
    {
     "name": "stdout",
     "output_type": "stream",
     "text": [
      "Removed item: book\n",
      "Updated list: ['paper', 'dal', 'colours', 'red', 'yellow', 'blue', 'rice', 'mango', 'carrot', 'banana']\n"
     ]
    }
   ],
   "source": [
    "list2=['paper', 'book', 'dal', 'colours', 'red', 'yellow', 'blue', 'rice', 'mango', 'carrot', 'banana']\n",
    "final_list=list2.pop(1)\n",
    "print(\"Removed item:\",final_list)\n",
    "print(\"Updated list:\", list2)\n"
   ]
  },
  {
   "cell_type": "code",
   "execution_count": 47,
   "metadata": {},
   "outputs": [
    {
     "name": "stdout",
     "output_type": "stream",
     "text": [
      "items: []\n"
     ]
    }
   ],
   "source": [
    "updatedlist= ['paper', 'dal', 'colours', 'red', 'yellow', 'blue', 'rice', 'mango', 'carrot', 'banana']\n",
    "updatedlist.clear()\n",
    "print(\"items:\",updatedlist)"
   ]
  },
  {
   "cell_type": "code",
   "execution_count": 48,
   "metadata": {},
   "outputs": [
    {
     "name": "stdout",
     "output_type": "stream",
     "text": [
      "my new list: ['rice', 'chicken', 'matan', 'fish']\n"
     ]
    }
   ],
   "source": [
    "updatedlist.extend([\"rice\",\"chicken\",\"matan\",\"fish\"])\n",
    "print(\"my new list:\",updatedlist)"
   ]
  },
  {
   "cell_type": "code",
   "execution_count": 49,
   "metadata": {},
   "outputs": [
    {
     "name": "stdout",
     "output_type": "stream",
     "text": [
      "['rice', 'chicken', 'matan', 'fish', 'rice', 'chicken', 'matan']\n"
     ]
    }
   ],
   "source": [
    "my_new_list= ['rice', 'chicken', 'matan', 'fish', 'rice', 'chicken', 'matan', 'fish']\n",
    "my_new_list.pop(-1)\n",
    "print(my_new_list)"
   ]
  },
  {
   "cell_type": "code",
   "execution_count": 50,
   "metadata": {},
   "outputs": [
    {
     "name": "stdout",
     "output_type": "stream",
     "text": [
      "['rice', 'chicken', 'fish', 'rice', 'chicken', 'matan']\n"
     ]
    }
   ],
   "source": [
    "my_new_list.remove('matan')\n",
    "print(my_new_list)"
   ]
  },
  {
   "cell_type": "code",
   "execution_count": 51,
   "metadata": {},
   "outputs": [
    {
     "name": "stdout",
     "output_type": "stream",
     "text": [
      "['rice', 'chicken', 'fish', 'rice', 'matan']\n"
     ]
    }
   ],
   "source": [
    "my_new_list.pop(-2)\n",
    "print(my_new_list)"
   ]
  },
  {
   "cell_type": "code",
   "execution_count": 52,
   "metadata": {},
   "outputs": [
    {
     "name": "stdout",
     "output_type": "stream",
     "text": [
      "['rice', 'chicken', 'fish', 'matan']\n"
     ]
    }
   ],
   "source": [
    "my_new_list.pop(-2)\n",
    "print(my_new_list)"
   ]
  },
  {
   "cell_type": "code",
   "execution_count": 53,
   "metadata": {},
   "outputs": [
    {
     "name": "stdout",
     "output_type": "stream",
     "text": [
      "my list: ['rice', 'chicken', 'fish', 'matan']\n"
     ]
    }
   ],
   "source": [
    "print(\"my list:\",my_new_list)"
   ]
  },
  {
   "cell_type": "code",
   "execution_count": 54,
   "metadata": {},
   "outputs": [
    {
     "name": "stdout",
     "output_type": "stream",
     "text": [
      "['rice', 'chicken', 'fish', 'matan', 'red', 'blue', 'age', 'brown', 'red', 'yellow', 'book']\n"
     ]
    }
   ],
   "source": [
    "my_new_list.extend([\"red\",\"blue\",\"age\",\"brown\",\"red\",\"yellow\",\"book\"])\n",
    "print(my_new_list)"
   ]
  },
  {
   "cell_type": "code",
   "execution_count": 55,
   "metadata": {},
   "outputs": [
    {
     "name": "stdout",
     "output_type": "stream",
     "text": [
      "INDEX= 5\n"
     ]
    }
   ],
   "source": [
    "#Index() is used for to get index of a specific element\n",
    "INDEX= my_new_list.index(\"blue\")\n",
    "print(\"INDEX=\",INDEX )"
   ]
  },
  {
   "cell_type": "code",
   "execution_count": 56,
   "metadata": {},
   "outputs": [
    {
     "name": "stdout",
     "output_type": "stream",
     "text": [
      "INDEX IS== 3\n"
     ]
    }
   ],
   "source": [
    "update= ['rice', 'chicken', 'fish', 'matan', 'red', 'blue', 'age', 'brown', 'red', 'yellow', 'book']\n",
    "INDEX=update.index(\"matan\")\n",
    "print(\"INDEX IS==\",INDEX)"
   ]
  },
  {
   "cell_type": "code",
   "execution_count": 57,
   "metadata": {},
   "outputs": [
    {
     "name": "stdout",
     "output_type": "stream",
     "text": [
      "Index is= 9\n"
     ]
    }
   ],
   "source": [
    "Index=update.index(\"yellow\")\n",
    "print(\"Index is=\",Index)"
   ]
  },
  {
   "cell_type": "code",
   "execution_count": 58,
   "metadata": {},
   "outputs": [
    {
     "name": "stdout",
     "output_type": "stream",
     "text": [
      "Index is= 7\n"
     ]
    }
   ],
   "source": [
    "Index=update.index(\"brown\")\n",
    "print(\"Index is=\",Index)"
   ]
  },
  {
   "cell_type": "code",
   "execution_count": 59,
   "metadata": {},
   "outputs": [
    {
     "name": "stdout",
     "output_type": "stream",
     "text": [
      "Index Is= 10\n"
     ]
    }
   ],
   "source": [
    "Index=update.index(\"book\")\n",
    "print(\"Index Is=\",Index)"
   ]
  },
  {
   "cell_type": "code",
   "execution_count": 60,
   "metadata": {},
   "outputs": [
    {
     "name": "stdout",
     "output_type": "stream",
     "text": [
      "no of times of 1 is= 14\n"
     ]
    }
   ],
   "source": [
    "# count() is used for to know a specific value repeated how many times\n",
    "x=[1,2,1,3,3,2,34,5,6,43,2,1,1,2,3,4,5,53.4,5,34,2,1,2,3,4,5,6,4,2,1,1,2,3,2,1,2,3,4,2,1,3,2,1,3,1,3,3,1,1,2,3,4,2,2,1,34,21]\n",
    "z= x.count(1)\n",
    "print(\"no of times of 1 is=\",z)"
   ]
  },
  {
   "cell_type": "code",
   "execution_count": 61,
   "metadata": {},
   "outputs": [
    {
     "name": "stdout",
     "output_type": "stream",
     "text": [
      "no of times of 2 is= 15\n"
     ]
    }
   ],
   "source": [
    "z= x.count(2)\n",
    "print(\"no of times of 2 is=\",z)"
   ]
  },
  {
   "cell_type": "code",
   "execution_count": 62,
   "metadata": {},
   "outputs": [
    {
     "name": "stdout",
     "output_type": "stream",
     "text": [
      "no of times of 3 is= 11\n"
     ]
    }
   ],
   "source": [
    "z= x.count(3)\n",
    "print(\"no of times of 3 is=\",z)"
   ]
  },
  {
   "cell_type": "code",
   "execution_count": 63,
   "metadata": {},
   "outputs": [
    {
     "name": "stdout",
     "output_type": "stream",
     "text": [
      "no of times of 4 is= 5\n"
     ]
    }
   ],
   "source": [
    "z= x.count(4)\n",
    "print(\"no of times of 4 is=\",z)"
   ]
  },
  {
   "cell_type": "code",
   "execution_count": 64,
   "metadata": {},
   "outputs": [
    {
     "name": "stdout",
     "output_type": "stream",
     "text": [
      "no of times of 6 is= 2\n"
     ]
    }
   ],
   "source": [
    "z= x.count(6)\n",
    "print(\"no of times of 6 is=\",z)"
   ]
  },
  {
   "cell_type": "code",
   "execution_count": 65,
   "metadata": {},
   "outputs": [
    {
     "name": "stdout",
     "output_type": "stream",
     "text": [
      "no of times of 10 is= 0\n"
     ]
    }
   ],
   "source": [
    "z= x.count(10)\n",
    "print(\"no of times of 10 is=\",z)"
   ]
  },
  {
   "cell_type": "code",
   "execution_count": 66,
   "metadata": {},
   "outputs": [
    {
     "name": "stdout",
     "output_type": "stream",
     "text": [
      "[1, 1, 1, 1, 1, 1, 1, 1, 1, 1, 1, 1, 1, 1, 2, 2, 2, 2, 2, 2, 2, 2, 2, 2, 2, 2, 2, 2, 2, 3, 3, 3, 3, 3, 3, 3, 3, 3, 3, 3, 4, 4, 4, 4, 4, 5, 5, 5, 5, 6, 6, 21, 34, 34, 34, 43, 53.4]\n"
     ]
    }
   ],
   "source": [
    "#shot() means it gonna shoted your values with Ascending order,like this\n",
    "x=[1,2,1,3,3,2,34,5,6,43,2,1,1,2,3,4,5,53.4,5,34,2,1,2,3,4,5,6,4,2,1,1,2,3,2,1,2,3,4,2,1,3,2,1,3,1,3,3,1,1,2,3,4,2,2,1,34,21]\n",
    "x.sort()\n",
    "print(x)"
   ]
  },
  {
   "cell_type": "code",
   "execution_count": 67,
   "metadata": {},
   "outputs": [
    {
     "name": "stdout",
     "output_type": "stream",
     "text": [
      "I will sort my list now\n",
      "Sorted shopping list is ['a', 'apple', 'b', 'banana', 'c', 'c', 'carrot', 'chair', 'mango', 'pen', 'rice', 'table']\n"
     ]
    }
   ],
   "source": [
    "# we can do with string values as well\n",
    "z= ['apple', 'mango', 'carrot', 'banana', 'rice', 'table', 'chair', 'pen', 'a', 'b', 'c','c']\n",
    "print('I will sort my list now')\n",
    "z.sort()\n",
    "\n",
    "print('Sorted shopping list is', z)"
   ]
  },
  {
   "cell_type": "code",
   "execution_count": 68,
   "metadata": {},
   "outputs": [
    {
     "name": "stdout",
     "output_type": "stream",
     "text": [
      "no of time= 2\n"
     ]
    }
   ],
   "source": [
    "times= z.count('c')\n",
    "print(\"no of time=\",times)"
   ]
  },
  {
   "cell_type": "code",
   "execution_count": 69,
   "metadata": {},
   "outputs": [
    {
     "name": "stdout",
     "output_type": "stream",
     "text": [
      "[21, 34, 1, 2, 2, 4, 3, 2, 1, 1, 3, 3, 1, 3, 1, 2, 3, 1, 2, 4, 3, 2, 1, 2, 3, 2, 1, 1, 2, 4, 6, 5, 4, 3, 2, 1, 2, 34, 5, 53.4, 5, 4, 3, 2, 1, 1, 2, 43, 6, 5, 34, 2, 3, 3, 1, 2, 1]\n"
     ]
    }
   ],
   "source": [
    "x=[1,2,1,3,3,2,34,5,6,43,2,1,1,2,3,4,5,53.4,5,34,2,1,2,3,4,5,6,4,2,1,1,2,3,2,1,2,3,4,2,1,3,2,1,3,1,3,3,1,1,2,3,4,2,2,1,34,21]\n",
    "x.reverse()\n",
    "print(x)"
   ]
  },
  {
   "cell_type": "code",
   "execution_count": 70,
   "metadata": {},
   "outputs": [
    {
     "data": {
      "text/plain": [
       "[1,\n",
       " 2,\n",
       " 1,\n",
       " 3,\n",
       " 3,\n",
       " 2,\n",
       " 34,\n",
       " 5,\n",
       " 6,\n",
       " 43,\n",
       " 2,\n",
       " 1,\n",
       " 1,\n",
       " 2,\n",
       " 3,\n",
       " 4,\n",
       " 5,\n",
       " 53.4,\n",
       " 5,\n",
       " 34,\n",
       " 2,\n",
       " 1,\n",
       " 2,\n",
       " 3,\n",
       " 4,\n",
       " 5,\n",
       " 6,\n",
       " 4,\n",
       " 2,\n",
       " 1,\n",
       " 1,\n",
       " 2,\n",
       " 3,\n",
       " 2,\n",
       " 1,\n",
       " 2,\n",
       " 3,\n",
       " 4,\n",
       " 2,\n",
       " 1,\n",
       " 3,\n",
       " 2,\n",
       " 1,\n",
       " 3,\n",
       " 1,\n",
       " 3,\n",
       " 3,\n",
       " 1,\n",
       " 1,\n",
       " 2,\n",
       " 3,\n",
       " 4,\n",
       " 2,\n",
       " 2,\n",
       " 1,\n",
       " 34,\n",
       " 21]"
      ]
     },
     "execution_count": 70,
     "metadata": {},
     "output_type": "execute_result"
    }
   ],
   "source": [
    "x[::-1]"
   ]
  },
  {
   "cell_type": "code",
   "execution_count": 71,
   "metadata": {},
   "outputs": [
    {
     "data": {
      "text/plain": [
       "[1, 2, 2, 4, 2, 5, 1, 2, 3, 3, 3, 34]"
      ]
     },
     "execution_count": 71,
     "metadata": {},
     "output_type": "execute_result"
    }
   ],
   "source": [
    "x[::-5]"
   ]
  },
  {
   "cell_type": "code",
   "execution_count": 72,
   "metadata": {},
   "outputs": [
    {
     "data": {
      "text/plain": [
       "[21,\n",
       " 34,\n",
       " 1,\n",
       " 2,\n",
       " 2,\n",
       " 4,\n",
       " 3,\n",
       " 2,\n",
       " 1,\n",
       " 1,\n",
       " 3,\n",
       " 3,\n",
       " 1,\n",
       " 3,\n",
       " 1,\n",
       " 2,\n",
       " 3,\n",
       " 1,\n",
       " 2,\n",
       " 4,\n",
       " 3,\n",
       " 2,\n",
       " 1,\n",
       " 2,\n",
       " 3,\n",
       " 2,\n",
       " 1,\n",
       " 1,\n",
       " 2,\n",
       " 4,\n",
       " 6,\n",
       " 5,\n",
       " 4,\n",
       " 3,\n",
       " 2,\n",
       " 1,\n",
       " 2,\n",
       " 34,\n",
       " 5,\n",
       " 53.4,\n",
       " 5,\n",
       " 4,\n",
       " 3,\n",
       " 2,\n",
       " 1,\n",
       " 1,\n",
       " 2,\n",
       " 43,\n",
       " 6,\n",
       " 5,\n",
       " 34,\n",
       " 2,\n",
       " 3,\n",
       " 3,\n",
       " 1,\n",
       " 2,\n",
       " 1]"
      ]
     },
     "execution_count": 72,
     "metadata": {},
     "output_type": "execute_result"
    }
   ],
   "source": [
    "x[::1]"
   ]
  },
  {
   "cell_type": "code",
   "execution_count": 73,
   "metadata": {},
   "outputs": [
    {
     "data": {
      "text/plain": [
       "[21, 3, 3, 6, 5, 34]"
      ]
     },
     "execution_count": 73,
     "metadata": {},
     "output_type": "execute_result"
    }
   ],
   "source": [
    "x[::10]"
   ]
  },
  {
   "cell_type": "code",
   "execution_count": 74,
   "metadata": {},
   "outputs": [
    {
     "name": "stdout",
     "output_type": "stream",
     "text": [
      "my assosories= ['mobile', 'laptop', 'chasma', 'waterbottle', 'keyboard']\n"
     ]
    }
   ],
   "source": [
    "my_assosories_are=[\"mobile\",\"laptop\",\"chasma\",\"waterbottle\",\"keyboard\"]\n",
    "my_assosories_are.copy()\n",
    "print(\"my assosories=\",my_assosories_are)"
   ]
  },
  {
   "cell_type": "code",
   "execution_count": 75,
   "metadata": {},
   "outputs": [
    {
     "name": "stdout",
     "output_type": "stream",
     "text": [
      "index 12\n"
     ]
    }
   ],
   "source": [
    "# list.index(item,start,stop)\n",
    "#It gonna search for a specific value w.r.t a specific start and end index values.\n",
    "z=[1,2,3,2,1,3,4,5,6,4,3,2,1,3,4,5]\n",
    "x= z.index(1,7,13)\n",
    "print(\"index\",x)"
   ]
  },
  {
   "cell_type": "code",
   "execution_count": 76,
   "metadata": {},
   "outputs": [
    {
     "name": "stdout",
     "output_type": "stream",
     "text": [
      "[1, 2, 3, 4, 5, 6, 7, 8, 9, 10]\n",
      "2054753075968\n",
      "2054753075968\n"
     ]
    }
   ],
   "source": [
    "#id means a memory location\n",
    "jyoti=[1,2,3,4,5,6,7,8,9,10]\n",
    "ranjan=jyoti\n",
    "print(ranjan)\n",
    "print(id(jyoti))\n",
    "print(id(ranjan))\n"
   ]
  },
  {
   "cell_type": "code",
   "execution_count": 77,
   "metadata": {},
   "outputs": [
    {
     "name": "stdout",
     "output_type": "stream",
     "text": [
      "[1, 2, 3, 4, 5, 6, 7, 8, 9, 10]\n",
      "2054754115648\n",
      "2054753875072\n"
     ]
    }
   ],
   "source": [
    "#copy() method is copying file and store into a new veriable,so memory location is diff\n",
    "jyoti=[1,2,3,4,5,6,7,8,9,10]\n",
    "padhi=jyoti.copy()\n",
    "print(padhi)\n",
    "print(id(jyoti))\n",
    "print(id(padhi))"
   ]
  },
  {
   "cell_type": "code",
   "execution_count": 78,
   "metadata": {},
   "outputs": [
    {
     "name": "stdout",
     "output_type": "stream",
     "text": [
      "[1, 2, 3, 4, 5, 6, [7, 8, 9], 10]\n",
      "2054754159168\n",
      "2054754471040\n",
      "2054754117056\n",
      "2054754117056\n"
     ]
    }
   ],
   "source": [
    "# In case of this, we are creting a nested list(list inside a list)\n",
    "# if i copy that file,we know both memory location are diff w.r.t veriable but inside list shares same location\n",
    "jyoti=[1,2,3,4,5,6,[7,8,9],10]\n",
    "padhi=jyoti.copy()\n",
    "print(padhi)\n",
    "print(id(jyoti))\n",
    "print(id(padhi))\n",
    "print((id(jyoti[6])))\n",
    "print((id(padhi[6])))"
   ]
  },
  {
   "cell_type": "code",
   "execution_count": 79,
   "metadata": {},
   "outputs": [
    {
     "name": "stdout",
     "output_type": "stream",
     "text": [
      "[1, 2, 3, 4, 5, 6, [7, 8, 9], 10]\n",
      "[1, 2, 3, 4, 5, 6, [7, 8, 9], 10]\n",
      "2054754159168\n",
      "2054754115648\n",
      "2054754117056\n",
      "2054753801600\n"
     ]
    }
   ],
   "source": [
    "#When i do deepcopy of a file,for each list memory locations are diff\n",
    "import copy\n",
    "padhi=copy.deepcopy(jyoti)\n",
    "print(jyoti)\n",
    "print(padhi)\n",
    "print(id(jyoti))\n",
    "print(id(padhi))\n",
    "print((id(jyoti[6])))\n",
    "print((id(padhi[6])))"
   ]
  },
  {
   "cell_type": "code",
   "execution_count": 80,
   "metadata": {},
   "outputs": [
    {
     "name": "stdout",
     "output_type": "stream",
     "text": [
      "[1, 2, 1, 2, 34]\n"
     ]
    }
   ],
   "source": [
    "x=[1,2,3,1,2,34]\n",
    "del x[2]\n",
    "print(x)"
   ]
  },
  {
   "cell_type": "code",
   "execution_count": 81,
   "metadata": {},
   "outputs": [
    {
     "name": "stdout",
     "output_type": "stream",
     "text": [
      "[]\n"
     ]
    }
   ],
   "source": [
    "del x[:]\n",
    "print(x)"
   ]
  },
  {
   "cell_type": "code",
   "execution_count": 82,
   "metadata": {},
   "outputs": [
    {
     "name": "stdout",
     "output_type": "stream",
     "text": [
      "[1, 3, 1, 2, 34]\n"
     ]
    }
   ],
   "source": [
    "x=[1,2,3,1,2,34]\n",
    "x.remove(2)\n",
    "print(x)"
   ]
  },
  {
   "cell_type": "code",
   "execution_count": 83,
   "metadata": {},
   "outputs": [
    {
     "name": "stdout",
     "output_type": "stream",
     "text": [
      "[1, 3, 1, 2, 34]\n"
     ]
    }
   ],
   "source": [
    "x=[1,2,3,1,2,34]\n",
    "x.pop(1)\n",
    "print(x)"
   ]
  },
  {
   "cell_type": "code",
   "execution_count": 84,
   "metadata": {},
   "outputs": [
    {
     "name": "stdout",
     "output_type": "stream",
     "text": [
      "index is 3\n"
     ]
    }
   ],
   "source": [
    "x=[1,2,3,1,2,34]\n",
    "z= x.index(1,2,5)\n",
    "print(\"index is\",z)"
   ]
  },
  {
   "cell_type": "markdown",
   "metadata": {},
   "source": [
    "# Built-in fuctions in list:"
   ]
  },
  {
   "cell_type": "code",
   "execution_count": 85,
   "metadata": {},
   "outputs": [
    {
     "data": {
      "text/plain": [
       "False"
      ]
     },
     "execution_count": 85,
     "metadata": {},
     "output_type": "execute_result"
    }
   ],
   "source": [
    "#in case of all(),if there is any false it gives you false as an output\n",
    "bucket=[True,True,False]\n",
    "all(bucket)"
   ]
  },
  {
   "cell_type": "code",
   "execution_count": 86,
   "metadata": {},
   "outputs": [
    {
     "data": {
      "text/plain": [
       "True"
      ]
     },
     "execution_count": 86,
     "metadata": {},
     "output_type": "execute_result"
    }
   ],
   "source": [
    "#Here not false,so its gives me true as an output\n",
    "bucket=[True,True,True,1,2,3,4,5]\n",
    "all(bucket)"
   ]
  },
  {
   "cell_type": "code",
   "execution_count": 87,
   "metadata": {},
   "outputs": [
    {
     "data": {
      "text/plain": [
       "True"
      ]
     },
     "execution_count": 87,
     "metadata": {},
     "output_type": "execute_result"
    }
   ],
   "source": [
    "all([1,2,3,4,5])"
   ]
  },
  {
   "cell_type": "code",
   "execution_count": 88,
   "metadata": {},
   "outputs": [
    {
     "data": {
      "text/plain": [
       "False"
      ]
     },
     "execution_count": 88,
     "metadata": {},
     "output_type": "execute_result"
    }
   ],
   "source": [
    "# Here we know false value is \"0\",so here is presence of False, so it gives you false as an output\n",
    "all([1,2,3,4,5,0])"
   ]
  },
  {
   "cell_type": "code",
   "execution_count": 89,
   "metadata": {},
   "outputs": [
    {
     "data": {
      "text/plain": [
       "False"
      ]
     },
     "execution_count": 89,
     "metadata": {},
     "output_type": "execute_result"
    }
   ],
   "source": [
    "any([0,False,False])"
   ]
  },
  {
   "cell_type": "code",
   "execution_count": 111,
   "metadata": {},
   "outputs": [
    {
     "name": "stdout",
     "output_type": "stream",
     "text": [
      "0 jyoti\n",
      "1 rahul\n",
      "2 roshon\n",
      "3 ranjan\n"
     ]
    }
   ],
   "source": [
    "# Python enumerate() is a built-in Python function. The enumerate() function allows you to loop over an iterable object and keep track of how many iterations have occurred.\n",
    "employee_names = [\"jyoti\", \"rahul\", \"roshon\", \"ranjan\"]\n",
    "for index, name in enumerate(employee_names, 0):\n",
    "     print(index, name)"
   ]
  },
  {
   "cell_type": "code",
   "execution_count": 100,
   "metadata": {},
   "outputs": [
    {
     "name": "stdout",
     "output_type": "stream",
     "text": [
      "10\n"
     ]
    }
   ],
   "source": [
    "#Max() give you maximum number\n",
    "a=[1,2,3,4,5,6,7,8,9,0,10]\n",
    "x= max(a)\n",
    "print(x)"
   ]
  },
  {
   "cell_type": "code",
   "execution_count": 101,
   "metadata": {},
   "outputs": [
    {
     "name": "stdout",
     "output_type": "stream",
     "text": [
      "0\n"
     ]
    }
   ],
   "source": [
    "#min() gives you minimum number\n",
    "a=[1,2,3,4,5,6,7,8,9,0,10]\n",
    "y=min(a)\n",
    "print(y)"
   ]
  },
  {
   "cell_type": "code",
   "execution_count": null,
   "metadata": {},
   "outputs": [],
   "source": [
    "#As we know False value is 0\n",
    "a=[1,2,3,4,5,6,7,8,9,False,10]\n",
    "z=max(a)\n",
    "print(z)"
   ]
  },
  {
   "cell_type": "code",
   "execution_count": null,
   "metadata": {},
   "outputs": [],
   "source": [
    "#As we know true value is 1\n",
    "a=[True,2,3,4,5,6,7,8,9,10]\n",
    "z=max(a)\n",
    "print(z)"
   ]
  },
  {
   "cell_type": "code",
   "execution_count": null,
   "metadata": {},
   "outputs": [],
   "source": [
    "#sorted(), we use this for value shorting\n",
    "a=[True,2,3,4,5,6,7,8,100,9,10]\n",
    "sorted(a)"
   ]
  },
  {
   "cell_type": "code",
   "execution_count": null,
   "metadata": {},
   "outputs": [],
   "source": [
    "#sun() give you adding of all element which is present inside a list\n",
    "sum(a)"
   ]
  },
  {
   "cell_type": "code",
   "execution_count": null,
   "metadata": {},
   "outputs": [],
   "source": [
    "a={1,2,3,4,5,6}\n",
    "print(list(a))"
   ]
  },
  {
   "cell_type": "code",
   "execution_count": null,
   "metadata": {},
   "outputs": [],
   "source": [
    "a=[1,2,3,4,5,6,7,8,9,'jyotiranjanpadhi','is a','data scientist']\n",
    "a[-3:]"
   ]
  },
  {
   "cell_type": "code",
   "execution_count": null,
   "metadata": {},
   "outputs": [],
   "source": [
    "a[:-5]"
   ]
  },
  {
   "cell_type": "code",
   "execution_count": null,
   "metadata": {},
   "outputs": [],
   "source": [
    "a[-5:-2]"
   ]
  },
  {
   "cell_type": "code",
   "execution_count": null,
   "metadata": {},
   "outputs": [],
   "source": [
    "a[:]"
   ]
  },
  {
   "cell_type": "code",
   "execution_count": null,
   "metadata": {},
   "outputs": [],
   "source": [
    "# it gonna show me reverse order\n",
    "a[::-1]"
   ]
  },
  {
   "cell_type": "code",
   "execution_count": null,
   "metadata": {},
   "outputs": [],
   "source": [
    "a[::-2]"
   ]
  },
  {
   "cell_type": "code",
   "execution_count": null,
   "metadata": {},
   "outputs": [],
   "source": [
    "a[::10]"
   ]
  },
  {
   "cell_type": "code",
   "execution_count": null,
   "metadata": {},
   "outputs": [],
   "source": [
    "a[::1]"
   ]
  },
  {
   "cell_type": "code",
   "execution_count": null,
   "metadata": {},
   "outputs": [],
   "source": [
    "#Just focus here, what i do\n",
    "#here i mention a[-3][-3],means first it gonna find out what is the value of -3 index, then inside this value what is the value of -3 index.\n",
    "\n",
    "a=[1,2,3,4,5,6,7,8,9,'jyoti','ranjan','padhi','data scientist']\n",
    "a[-3][-3]"
   ]
  },
  {
   "cell_type": "code",
   "execution_count": null,
   "metadata": {},
   "outputs": [],
   "source": [
    "a[-1][-14]"
   ]
  },
  {
   "cell_type": "code",
   "execution_count": null,
   "metadata": {},
   "outputs": [],
   "source": [
    "a[-5][-3]"
   ]
  },
  {
   "cell_type": "code",
   "execution_count": null,
   "metadata": {},
   "outputs": [],
   "source": [
    "a=[1,2,3,4,5,6,7,8]\n",
    "b=a\n",
    "print(b)\n",
    "print(id(b))\n",
    "print(id(a))"
   ]
  },
  {
   "cell_type": "code",
   "execution_count": null,
   "metadata": {},
   "outputs": [],
   "source": [
    "a=[1,2,3,4,5,6,7,8]\n",
    "b=a.copy()\n",
    "print(b)\n",
    "print(id(a))\n",
    "print(id(b))"
   ]
  },
  {
   "cell_type": "code",
   "execution_count": null,
   "metadata": {},
   "outputs": [],
   "source": [
    "x=[1,2,3,4,5,[6,7,8,9],10]\n",
    "y=x.copy()\n",
    "print(y)\n",
    "print(id(x))\n",
    "print(id(y))\n",
    "print(id(x[-2]))\n",
    "print(id(y[-2]))"
   ]
  },
  {
   "cell_type": "code",
   "execution_count": null,
   "metadata": {},
   "outputs": [],
   "source": [
    "import copy\n",
    "z= copy.deepcopy(x)\n",
    "print(z)\n",
    "print(x)\n",
    "print(id(x))\n",
    "print(id(z))\n",
    "print((id(x[5])))\n",
    "print((id(z[5])))"
   ]
  },
  {
   "cell_type": "code",
   "execution_count": null,
   "metadata": {},
   "outputs": [],
   "source": [
    "pocket=['wallet','mobile','money','sanitizer','ear buds']\n",
    "mypocket=enumerate(pocket)\n",
    "print(list(mypocket))"
   ]
  },
  {
   "cell_type": "code",
   "execution_count": null,
   "metadata": {},
   "outputs": [],
   "source": [
    "mobile=['whatsapp','facebook','instagram','snapchat','linkedin']\n",
    "my_mobile=enumerate(mobile)\n",
    "print(list(my_mobile))"
   ]
  },
  {
   "cell_type": "markdown",
   "metadata": {},
   "source": [
    "# Now we officially complete the list methords,,,,,,,,,,,,,"
   ]
  },
  {
   "cell_type": "markdown",
   "metadata": {},
   "source": [
    "# Key point"
   ]
  },
  {
   "attachments": {
    "images.jfif": {
     "image/jpeg": "[encoded data removed]"
    }
   },
   "cell_type": "markdown",
   "metadata": {},
   "source": [
    "![images.jfif](attachment:images.jfif)"
   ]
  },
  {
   "cell_type": "markdown",
   "metadata": {},
   "source": [
    "* Just practice and practice,then only you gonna have better understanding"
   ]
  },
  {
   "cell_type": "code",
   "execution_count": null,
   "metadata": {},
   "outputs": [],
   "source": []
  }
 ],
 "metadata": {
  "kernelspec": {
   "display_name": "Python 3",
   "language": "python",
   "name": "python3"
  },
  "language_info": {
   "codemirror_mode": {
    "name": "ipython",
    "version": 3
   },
   "file_extension": ".py",
   "mimetype": "text/x-python",
   "name": "python",
   "nbconvert_exporter": "python",
   "pygments_lexer": "ipython3",
   "version": "3.8.5"
  }
 },
 "nbformat": 4,
 "nbformat_minor": 4
}
