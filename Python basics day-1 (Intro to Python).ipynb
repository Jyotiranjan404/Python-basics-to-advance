{
 "cells": [
  {
   "cell_type": "markdown",
   "metadata": {},
   "source": [
    "# Why Python And Features of Python\n",
    "- **Easy-to-learn**\n",
    "- **Easy-to-read**\n",
    "- **Easy-to-maintain**\n",
    "- **Free and Open Source**\n",
    "- **High-Level Language**\n",
    "- **Dynamically Typed Language**\n",
    "- **Cross-platform language** "
   ]
  },
  {
   "cell_type": "markdown",
   "metadata": {},
   "source": [
    "# where to use python\n",
    "\n"
   ]
  },
  {
   "cell_type": "markdown",
   "metadata": {},
   "source": [
    "- Machine learning \n",
    "- Deep learning\n",
    "- IOT Applications\n",
    "- Desktop Applications\n",
    "- Web Applications\n",
    "- Database Applications\n",
    "- Networking Applications\n",
    "- Games "
   ]
  },
  {
   "cell_type": "markdown",
   "metadata": {},
   "source": [
    "# overview\n",
    "- Value \n",
    "- Variable \n",
    "- Function \n",
    "- Library"
   ]
  },
  {
   "cell_type": "markdown",
   "metadata": {},
   "source": [
    "## value\n",
    "[1,2,3,4,5,6, 5.8, 'j', 'name']\n",
    "* Like we see above,value can be int,float,bool,complex number,string etc."
   ]
  },
  {
   "cell_type": "markdown",
   "metadata": {},
   "source": [
    "## variables\n",
    "To store the value we use a veriable. \n",
    "* ex: a=1\n",
    "* here \"a\" is my veriable who stored the value.\n"
   ]
  },
  {
   "cell_type": "markdown",
   "metadata": {},
   "source": [
    "## Functions\n",
    "To perform certain activities on variables "
   ]
  },
  {
   "cell_type": "markdown",
   "metadata": {},
   "source": [
    "## Library \n",
    "List of functions we call it as library \n",
    "\n",
    "* 1- Pandas : To deal with End to End operation on which similar to excel operations\n",
    "* 2- Numpy library : To deal with End to End array related operations\n",
    "* 3- scikit learn : To perform ML operations\n",
    "* 4- Matplotlib, seaborn & plotly : For Data visualization\n",
    "* 5- NLTK : to perform text related operations\n",
    "* 6- scipy : to perform scientific operations we go with scipy library\n",
    "* 7- Flask : is a web application framework written in python\n",
    "* 8- pickle : To perform seralization of ml model storing our ml model for future use\n",
    "\n"
   ]
  },
  {
   "cell_type": "markdown",
   "metadata": {},
   "source": [
    "# IDE"
   ]
  },
  {
   "cell_type": "markdown",
   "metadata": {},
   "source": [
    "- Ease of coding\n",
    "- minterface to write program\n",
    "- run the command and run it and test line by line\n",
    "- they are highly interactive\n",
    "- auto complete "
   ]
  },
  {
   "cell_type": "markdown",
   "metadata": {},
   "source": [
    "# Rules to follow in Python\n",
    "- Case sensitive\n",
    "- For printing: print („welcome‟) where print is built in function\n",
    "- No punctuation at end of statement\n",
    "- For String use ‟ „ or “ “\n",
    "- Proper indentation should be followed\n",
    "- Special characters like () , # , „‟‟ „‟‟ are used .\n",
    "   - () -> opening and closing paramters.used with functions .\n",
    "   -  #->Pound sign, proceeds a comment line\n",
    "   - „‟‟ „‟‟ -> paragraph command ,encloses a paragraph comment."
   ]
  },
  {
   "cell_type": "markdown",
   "metadata": {},
   "source": [
    "# Hello"
   ]
  },
  {
   "cell_type": "code",
   "execution_count": 3,
   "metadata": {},
   "outputs": [
    {
     "name": "stdout",
     "output_type": "stream",
     "text": [
      "Hello World\n",
      "Happy Learning \n",
      "Welcome to Python programming language classes\n"
     ]
    }
   ],
   "source": [
    "# these ar print statements \n",
    "print(\"Hello World\")\n",
    "print(\"Happy Learning \\nWelcome to Python programming language classes\")"
   ]
  },
  {
   "cell_type": "markdown",
   "metadata": {},
   "source": [
    "# Variables"
   ]
  },
  {
   "cell_type": "markdown",
   "metadata": {},
   "source": [
    "- A variable name must start with a letter or the underscore character\n",
    "- A variable name cannot start with a number\n",
    "- A variable name can only contain alpha-numeric characters and underscores (A-z, 0-9, and _ )\n",
    "- Variable names are case-sensitive (age, Age and AGE are three different variables)\n",
    "- We cannot use a keyword as a variable name, function name or any other identifier. They are used to define the syntax and structure of the Python language.\n",
    "- There are 33 keywords in Python 3.7. This number can vary slightly over the course of time."
   ]
  },
  {
   "cell_type": "markdown",
   "metadata": {},
   "source": [
    "# Basics of python"
   ]
  },
  {
   "cell_type": "code",
   "execution_count": 6,
   "metadata": {
    "scrolled": false
   },
   "outputs": [
    {
     "name": "stdout",
     "output_type": "stream",
     "text": [
      "\n",
      "Here is a list of the Python keywords.  Enter any keyword to get more help.\n",
      "\n",
      "False               class               from                or\n",
      "None                continue            global              pass\n",
      "True                def                 if                  raise\n",
      "and                 del                 import              return\n",
      "as                  elif                in                  try\n",
      "assert              else                is                  while\n",
      "async               except              lambda              with\n",
      "await               finally             nonlocal            yield\n",
      "break               for                 not                 \n",
      "\n"
     ]
    }
   ],
   "source": [
    "#welcome to python,these are some Python Built-in keywords which gonna help you to do coding \n",
    "help(\"keywords\")"
   ]
  },
  {
   "cell_type": "code",
   "execution_count": 8,
   "metadata": {},
   "outputs": [
    {
     "name": "stdout",
     "output_type": "stream",
     "text": [
      "example:\n",
      "jyotiranjan padhi\n",
      "24\n",
      "XYZ Inc!\n"
     ]
    }
   ],
   "source": [
    "#some values with veriables\n",
    "# remember one thing when ever you write any string values you need to mention inside \" \" or ' '.if int not need to write this\n",
    "A= \"example:\"\n",
    "name = 'jyotiranjan padhi'\n",
    "Age =24\n",
    "B='XYZ Inc!'\n",
    "print(A)\n",
    "print(name)\n",
    "print(Age)\n",
    "print(B)"
   ]
  },
  {
   "cell_type": "code",
   "execution_count": 9,
   "metadata": {},
   "outputs": [
    {
     "name": "stdout",
     "output_type": "stream",
     "text": [
      "10\n",
      "20\n",
      "30\n"
     ]
    }
   ],
   "source": [
    "#another example\n",
    "x,y,z=10,20,30\n",
    "\n",
    "print(x)\n",
    "print(y)\n",
    "print(z)"
   ]
  },
  {
   "cell_type": "code",
   "execution_count": 10,
   "metadata": {},
   "outputs": [
    {
     "data": {
      "text/plain": [
       "10"
      ]
     },
     "execution_count": 10,
     "metadata": {},
     "output_type": "execute_result"
    }
   ],
   "source": [
    "#shortcut method to print any statement: not need to write print,like this below example\n",
    "x=10\n",
    "x"
   ]
  },
  {
   "cell_type": "code",
   "execution_count": 11,
   "metadata": {},
   "outputs": [
    {
     "data": {
      "text/plain": [
       "'jyotiranjan padhi'"
      ]
     },
     "execution_count": 11,
     "metadata": {},
     "output_type": "execute_result"
    }
   ],
   "source": [
    "x=\"jyotiranjan padhi\"\n",
    "x"
   ]
  },
  {
   "cell_type": "markdown",
   "metadata": {},
   "source": [
    "# Data types"
   ]
  },
  {
   "cell_type": "markdown",
   "metadata": {},
   "source": [
    "* 1.int\n",
    "* 2.float\n",
    "* 3.complex\n",
    "* 4.str\n",
    "* 5.list\n",
    "* 6.tuple\n",
    "* 7.set\n",
    "* 8.dict\n",
    "* 9.frozenset\n",
    "* 10.bool\n",
    "* 11.range\n",
    "* 12.bytes\n",
    "* 13.bytearray\n",
    "* 14.None\n"
   ]
  },
  {
   "cell_type": "markdown",
   "metadata": {},
   "source": [
    "## int"
   ]
  },
  {
   "cell_type": "code",
   "execution_count": 12,
   "metadata": {},
   "outputs": [
    {
     "data": {
      "text/plain": [
       "int"
      ]
     },
     "execution_count": 12,
     "metadata": {},
     "output_type": "execute_result"
    }
   ],
   "source": [
    "# Integers : are whole number values such as 847,-9 or 7. and if you want to know type of that value then write like this,\n",
    "a = 20\n",
    "type(a)"
   ]
  },
  {
   "cell_type": "markdown",
   "metadata": {},
   "source": [
    "## float"
   ]
  },
  {
   "cell_type": "code",
   "execution_count": 13,
   "metadata": {},
   "outputs": [
    {
     "data": {
      "text/plain": [
       "float"
      ]
     },
     "execution_count": 13,
     "metadata": {},
     "output_type": "execute_result"
    }
   ],
   "source": [
    "# Float: are values that use decimal point and therefore may have\n",
    "# fractional point eg: 3.415,-2.35\n",
    "b = 20.5\n",
    "type(b)"
   ]
  },
  {
   "cell_type": "markdown",
   "metadata": {},
   "source": [
    "## complex"
   ]
  },
  {
   "cell_type": "code",
   "execution_count": 14,
   "metadata": {},
   "outputs": [
    {
     "data": {
      "text/plain": [
       "complex"
      ]
     },
     "execution_count": 14,
     "metadata": {},
     "output_type": "execute_result"
    }
   ],
   "source": [
    "# Complex number is represented by complex class. It is specified as (real part) + (imaginary part)j\n",
    "c = 10+20j\n",
    "type(c)"
   ]
  },
  {
   "cell_type": "code",
   "execution_count": 15,
   "metadata": {},
   "outputs": [
    {
     "name": "stdout",
     "output_type": "stream",
     "text": [
      "(1+0j)\n"
     ]
    }
   ],
   "source": [
    "d = complex(1)\n",
    "print(d)"
   ]
  },
  {
   "cell_type": "code",
   "execution_count": 16,
   "metadata": {},
   "outputs": [],
   "source": [
    "d = complex(40+40.5j)"
   ]
  },
  {
   "cell_type": "code",
   "execution_count": 17,
   "metadata": {},
   "outputs": [
    {
     "name": "stdout",
     "output_type": "stream",
     "text": [
      "(40+40.5j)\n"
     ]
    },
    {
     "data": {
      "text/plain": [
       "complex"
      ]
     },
     "execution_count": 17,
     "metadata": {},
     "output_type": "execute_result"
    }
   ],
   "source": [
    "print(d)\n",
    "type(d)"
   ]
  },
  {
   "cell_type": "markdown",
   "metadata": {},
   "source": [
    "## str"
   ]
  },
  {
   "cell_type": "code",
   "execution_count": 18,
   "metadata": {},
   "outputs": [
    {
     "data": {
      "text/plain": [
       "str"
      ]
     },
     "execution_count": 18,
     "metadata": {},
     "output_type": "execute_result"
    }
   ],
   "source": [
    "# Strings in Python can be created using single quotes or double quotes or even triple quotes.\n",
    "e = \"welcome\"\n",
    "type(e)"
   ]
  },
  {
   "cell_type": "code",
   "execution_count": 19,
   "metadata": {},
   "outputs": [
    {
     "data": {
      "text/plain": [
       "str"
      ]
     },
     "execution_count": 19,
     "metadata": {},
     "output_type": "execute_result"
    }
   ],
   "source": [
    "e = \"\"\"welcome to python classes\"\"\"\n",
    "type(e)"
   ]
  },
  {
   "cell_type": "markdown",
   "metadata": {},
   "source": [
    "## bool"
   ]
  },
  {
   "cell_type": "code",
   "execution_count": 22,
   "metadata": {},
   "outputs": [
    {
     "name": "stdout",
     "output_type": "stream",
     "text": [
      "False\n"
     ]
    }
   ],
   "source": [
    "# Booleans represent one of two values: True or False.\n",
    "a = 100\n",
    "b = 20.5\n",
    "f = b>a\n",
    "print(f)"
   ]
  },
  {
   "cell_type": "code",
   "execution_count": 24,
   "metadata": {},
   "outputs": [
    {
     "name": "stdout",
     "output_type": "stream",
     "text": [
      "1\n"
     ]
    }
   ],
   "source": [
    "# Ture value is 1 always.if i want to Subtract any value with True the result will be,\n",
    "a = 2 - True\n",
    "print(a)"
   ]
  },
  {
   "cell_type": "code",
   "execution_count": 25,
   "metadata": {},
   "outputs": [
    {
     "data": {
      "text/plain": [
       "2"
      ]
     },
     "execution_count": 25,
     "metadata": {},
     "output_type": "execute_result"
    }
   ],
   "source": [
    "True+True"
   ]
  },
  {
   "cell_type": "code",
   "execution_count": 29,
   "metadata": {},
   "outputs": [
    {
     "data": {
      "text/plain": [
       "1"
      ]
     },
     "execution_count": 29,
     "metadata": {},
     "output_type": "execute_result"
    }
   ],
   "source": [
    "#False value is 0 always,look some examples\n",
    "True- False"
   ]
  },
  {
   "cell_type": "code",
   "execution_count": 30,
   "metadata": {},
   "outputs": [
    {
     "data": {
      "text/plain": [
       "0"
      ]
     },
     "execution_count": 30,
     "metadata": {},
     "output_type": "execute_result"
    }
   ],
   "source": [
    "False- False"
   ]
  },
  {
   "cell_type": "code",
   "execution_count": 31,
   "metadata": {},
   "outputs": [
    {
     "data": {
      "text/plain": [
       "2"
      ]
     },
     "execution_count": 31,
     "metadata": {},
     "output_type": "execute_result"
    }
   ],
   "source": [
    "2-False"
   ]
  },
  {
   "cell_type": "markdown",
   "metadata": {},
   "source": [
    "## bytes"
   ]
  },
  {
   "cell_type": "code",
   "execution_count": 35,
   "metadata": {},
   "outputs": [
    {
     "data": {
      "text/plain": [
       "bytes"
      ]
     },
     "execution_count": 35,
     "metadata": {},
     "output_type": "execute_result"
    }
   ],
   "source": [
    "# The bytes() method returns a immutable bytes object initialized with the given size and data ranges between 0 <= x < 256\n",
    "# immutable is, after assigning a order we cant change it.\n",
    "h = [10,20,30,40,255]\n",
    "i = bytes(h)\n",
    "type(i)"
   ]
  },
  {
   "cell_type": "code",
   "execution_count": 35,
   "metadata": {},
   "outputs": [
    {
     "ename": "TypeError",
     "evalue": "'int' object does not support item assignment",
     "output_type": "error",
     "traceback": [
      "\u001b[1;31m---------------------------------------------------------------------------\u001b[0m",
      "\u001b[1;31mTypeError\u001b[0m                                 Traceback (most recent call last)",
      "\u001b[1;32m<ipython-input-35-6166020be524>\u001b[0m in \u001b[0;36m<module>\u001b[1;34m\u001b[0m\n\u001b[0;32m      1\u001b[0m \u001b[1;31m#When i am trying to change the index 0,it cant bz its a immutable so i gonna get this error\u001b[0m\u001b[1;33m\u001b[0m\u001b[1;33m\u001b[0m\u001b[1;33m\u001b[0m\u001b[0m\n\u001b[1;32m----> 2\u001b[1;33m \u001b[0mi\u001b[0m\u001b[1;33m[\u001b[0m\u001b[1;36m0\u001b[0m\u001b[1;33m]\u001b[0m \u001b[1;33m=\u001b[0m \u001b[1;36m100\u001b[0m\u001b[1;33m\u001b[0m\u001b[1;33m\u001b[0m\u001b[0m\n\u001b[0m",
      "\u001b[1;31mTypeError\u001b[0m: 'int' object does not support item assignment"
     ]
    }
   ],
   "source": [
    "#When i am trying to change the index 0,it cant bz its a immutable so i gonna get this error\n",
    "i[0] = 100"
   ]
  },
  {
   "cell_type": "markdown",
   "metadata": {},
   "source": [
    "## bytearray"
   ]
  },
  {
   "cell_type": "code",
   "execution_count": 36,
   "metadata": {},
   "outputs": [
    {
     "data": {
      "text/plain": [
       "bytearray"
      ]
     },
     "execution_count": 36,
     "metadata": {},
     "output_type": "execute_result"
    }
   ],
   "source": [
    "# bytearray is mutable,means after assigning a order if we want to change any values we can do that \n",
    "j = [20,30,10,50,25,70,255]\n",
    "k = bytearray(j)\n",
    "type(k)"
   ]
  },
  {
   "cell_type": "code",
   "execution_count": 37,
   "metadata": {},
   "outputs": [
    {
     "name": "stdout",
     "output_type": "stream",
     "text": [
      "20\n",
      "30\n",
      "10\n",
      "50\n",
      "25\n",
      "70\n",
      "255\n"
     ]
    }
   ],
   "source": [
    "for i in k:\n",
    "    print(i)"
   ]
  },
  {
   "cell_type": "code",
   "execution_count": 40,
   "metadata": {},
   "outputs": [
    {
     "name": "stdout",
     "output_type": "stream",
     "text": [
      "bytearray(b'd\\x1e\\n2\\x19F\\xff')\n"
     ]
    }
   ],
   "source": [
    "# Now its not giving me eny error because its mutable.\n",
    "k[0] = 100\n",
    "print(k)"
   ]
  },
  {
   "cell_type": "code",
   "execution_count": 41,
   "metadata": {},
   "outputs": [
    {
     "name": "stdout",
     "output_type": "stream",
     "text": [
      "100\n",
      "30\n",
      "10\n",
      "50\n",
      "25\n",
      "70\n",
      "255\n"
     ]
    }
   ],
   "source": [
    "for i in k:\n",
    "    print(i)"
   ]
  },
  {
   "cell_type": "markdown",
   "metadata": {},
   "source": [
    "## Range"
   ]
  },
  {
   "cell_type": "code",
   "execution_count": 42,
   "metadata": {},
   "outputs": [
    {
     "name": "stdout",
     "output_type": "stream",
     "text": [
      "0\n",
      "3\n",
      "6\n",
      "9\n"
     ]
    }
   ],
   "source": [
    "# The range() function returns a sequence of numbers, starting from 0 by default, \n",
    "# and increments by 1 by default)\n",
    "# range(start, stop, step)\n",
    "l = range(0,11,3)\n",
    "for i in l:\n",
    "    print(i)\n",
    "# type(l)"
   ]
  },
  {
   "cell_type": "code",
   "execution_count": 43,
   "metadata": {},
   "outputs": [
    {
     "name": "stdout",
     "output_type": "stream",
     "text": [
      "100\n",
      "80\n",
      "60\n",
      "40\n",
      "20\n"
     ]
    }
   ],
   "source": [
    "l = range(100,10,-20)\n",
    "[100,80,60,40,20]\n",
    "#star to end-1\n",
    "for i in l:\n",
    "    print(i)"
   ]
  },
  {
   "cell_type": "markdown",
   "metadata": {},
   "source": [
    "## forzenset"
   ]
  },
  {
   "cell_type": "code",
   "execution_count": 65,
   "metadata": {},
   "outputs": [
    {
     "data": {
      "text/plain": [
       "frozenset({1, 10, 20, 30, 50, 100, 200})"
      ]
     },
     "execution_count": 65,
     "metadata": {},
     "output_type": "execute_result"
    }
   ],
   "source": [
    "# Frozen set is just an immutable version of a Python set object\n",
    "p = {200,200,100,100,10,50 ,50,50,20,20,20,30,30,1,1}\n",
    "q = frozenset(p)\n",
    "q"
   ]
  },
  {
   "cell_type": "markdown",
   "metadata": {},
   "source": [
    "## None"
   ]
  },
  {
   "cell_type": "code",
   "execution_count": 63,
   "metadata": {},
   "outputs": [
    {
     "name": "stdout",
     "output_type": "stream",
     "text": [
      "welcome\n",
      "None\n"
     ]
    }
   ],
   "source": [
    "def test():\n",
    "    print(\"welcome\")\n",
    "#     return 20\n",
    "y = test()\n",
    "print(y)"
   ]
  },
  {
   "cell_type": "markdown",
   "metadata": {},
   "source": [
    "# ID and Type"
   ]
  },
  {
   "cell_type": "markdown",
   "metadata": {},
   "source": [
    "** ID and TYPE **\n",
    "\n",
    "- The built-in function id() returns the identity of an object as an integer. \n",
    "- This integer usually corresponds to the object’s location in memory, although this is specific to the Python implementation and the platform being used. The operator compares the identity of two objects."
   ]
  },
  {
   "cell_type": "code",
   "execution_count": 10,
   "metadata": {},
   "outputs": [],
   "source": [
    "num1 = 10\n",
    "num2 = 10.10\n",
    "str1 = 'ML'\n",
    "answer = True\n",
    "t = (100, 'Python')"
   ]
  },
  {
   "cell_type": "code",
   "execution_count": 11,
   "metadata": {},
   "outputs": [
    {
     "data": {
      "text/plain": [
       "(4384093824, 4417473152, 4420157312, 4383713200, 4418412360)"
      ]
     },
     "execution_count": 11,
     "metadata": {},
     "output_type": "execute_result"
    }
   ],
   "source": [
    "id(num1), id(num2), id(str1), id(answer), id(t)"
   ]
  },
  {
   "cell_type": "code",
   "execution_count": 12,
   "metadata": {},
   "outputs": [
    {
     "data": {
      "text/plain": [
       "(int, float, str, bool, type)"
      ]
     },
     "execution_count": 12,
     "metadata": {},
     "output_type": "execute_result"
    }
   ],
   "source": [
    "type(num1), type(num2), type(str1), type(answer), type(tuple)"
   ]
  },
  {
   "cell_type": "code",
   "execution_count": 13,
   "metadata": {},
   "outputs": [
    {
     "data": {
      "text/plain": [
       "(list, set, dict)"
      ]
     },
     "execution_count": 13,
     "metadata": {},
     "output_type": "execute_result"
    }
   ],
   "source": [
    "type(my_list), type(my_set), type(my_dict)"
   ]
  },
  {
   "cell_type": "markdown",
   "metadata": {},
   "source": [
    "# Mutable and Immutable Objects \n",
    "\n",
    "Every variable in python holds an instance of an object. There are 2 types of objects in python i.e. \n",
    "- Mutable  \n",
    "- Immutable objects. \n",
    "\n",
    "    Whenever an object is instantiated, it is assigned a unique object id. \n",
    "\n",
    "    The type of the object is defined at the runtime and it can’t be changed afterwards. \n",
    "\n",
    "However, it’s state can be changed if it is a mutable object.\n",
    "\n",
    "- Mutable objects: list, dict, set, byte array\n",
    "\n",
    "- Immutable objects: int, float, complex, string, tuple, frozen set [note: immutable version of set], bytes"
   ]
  },
  {
   "attachments": {
    "1_X3GmUh7dqAMJLM5KwGBKYQ%20%281%29.png": {
     "image/png": "[encoded data removed]"
    }
   },
   "cell_type": "markdown",
   "metadata": {},
   "source": [
    "![1_X3GmUh7dqAMJLM5KwGBKYQ%20%281%29.png](attachment:1_X3GmUh7dqAMJLM5KwGBKYQ%20%281%29.png)"
   ]
  },
  {
   "cell_type": "markdown",
   "metadata": {},
   "source": [
    "# Immutable Objects  : \n",
    "- int, \n",
    "- float, \n",
    "- bool, \n",
    "- string, \n",
    "- tuple. \n",
    "- range\n",
    "- complex\n",
    "- bytes\n",
    "- frozenset\n",
    "\n",
    "In simple words, an immutable object can’t be changed after it is created."
   ]
  },
  {
   "cell_type": "markdown",
   "metadata": {},
   "source": [
    "# mutable Objects  : \n",
    "- list\n",
    "- sets\n",
    "- dict\n",
    "- bytesarray\n",
    "\n",
    "In simple words, an mutable object can be changed after it is created.\n"
   ]
  },
  {
   "cell_type": "code",
   "execution_count": null,
   "metadata": {
    "collapsed": true
   },
   "outputs": [],
   "source": []
  }
 ],
 "metadata": {
  "kernelspec": {
   "display_name": "Python 3",
   "language": "python",
   "name": "python3"
  },
  "language_info": {
   "codemirror_mode": {
    "name": "ipython",
    "version": 3
   },
   "file_extension": ".py",
   "mimetype": "text/x-python",
   "name": "python",
   "nbconvert_exporter": "python",
   "pygments_lexer": "ipython3",
   "version": "3.8.5"
  },
  "toc": {
   "base_numbering": 1,
   "nav_menu": {},
   "number_sections": true,
   "sideBar": true,
   "skip_h1_title": false,
   "title_cell": "Table of Contents",
   "title_sidebar": "Contents",
   "toc_cell": false,
   "toc_position": {},
   "toc_section_display": true,
   "toc_window_display": false
  }
 },
 "nbformat": 4,
 "nbformat_minor": 2
}
